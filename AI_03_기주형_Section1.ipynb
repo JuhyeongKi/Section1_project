{
  "nbformat": 4,
  "nbformat_minor": 0,
  "metadata": {
    "colab": {
      "name": "Copy of ai03_기주형_Section1 project.ipynb",
      "provenance": [],
      "collapsed_sections": []
    },
    "kernelspec": {
      "name": "python3",
      "display_name": "Python 3"
    },
    "language_info": {
      "name": "python"
    }
  },
  "cells": [
    {
      "cell_type": "code",
      "metadata": {
        "id": "8CPqCLkacAmb"
      },
      "source": [
        "# import os\n",
        "# os.kill(os.getpid(), 9)"
      ],
      "execution_count": null,
      "outputs": []
    },
    {
      "cell_type": "markdown",
      "metadata": {
        "id": "MhLrZiNUcmLx"
      },
      "source": [
        "# 데이터 전처리 과정\n"
      ]
    },
    {
      "cell_type": "code",
      "metadata": {
        "colab": {
          "base_uri": "https://localhost:8080/"
        },
        "id": "xy_LCvcNwWpn",
        "outputId": "dbc69514-14ba-4633-c099-2497f1b88ca5"
      },
      "source": [
        "# 데이터 불러오기\n",
        "\n",
        "import pandas as pd\n",
        "import numpy as np\n",
        "from sklearn.cluster import KMeans \n",
        "from sklearn.preprocessing import StandardScaler\n",
        "from sklearn.preprocessing import StandardScaler, Normalizer\n",
        "from sklearn.decomposition import PCA\n",
        "import matplotlib.pyplot as plt\n",
        "import seaborn as sns\n",
        "\n",
        "from google.colab import drive \n",
        "drive.mount('/content/gdrive')\n",
        "# pd.set_option('display.max_columns', 10 )\n",
        "# pd.set_option('display.max_rows', 100)\n",
        "\n",
        "pd.set_option('display.float_format', None)"
      ],
      "execution_count": 1,
      "outputs": [
        {
          "output_type": "stream",
          "text": [
            "Mounted at /content/gdrive\n"
          ],
          "name": "stdout"
        }
      ]
    },
    {
      "cell_type": "code",
      "metadata": {
        "colab": {
          "base_uri": "https://localhost:8080/"
        },
        "id": "np843LsxxYaZ",
        "outputId": "83689a34-d585-4d86-c5e7-8cce3c4bb143"
      },
      "source": [
        "df=pd.read_csv('/content/gdrive/MyDrive/Colab reference/vgames2.csv')\n",
        "df.shape\n"
      ],
      "execution_count": 5,
      "outputs": [
        {
          "output_type": "execute_result",
          "data": {
            "text/plain": [
              "(16598, 10)"
            ]
          },
          "metadata": {
            "tags": []
          },
          "execution_count": 5
        }
      ]
    },
    {
      "cell_type": "code",
      "metadata": {
        "colab": {
          "base_uri": "https://localhost:8080/"
        },
        "id": "81taLImVwKNY",
        "outputId": "c742888f-72b3-4a18-c1c0-05251e365a9e"
      },
      "source": [
        "df.isnull().sum() # data의 결측치 를 확인하고"
      ],
      "execution_count": 6,
      "outputs": [
        {
          "output_type": "execute_result",
          "data": {
            "text/plain": [
              "Unnamed: 0       0\n",
              "Name             0\n",
              "Platform         0\n",
              "Year           271\n",
              "Genre           50\n",
              "Publisher       58\n",
              "NA_Sales         0\n",
              "EU_Sales         0\n",
              "JP_Sales         0\n",
              "Other_Sales      0\n",
              "dtype: int64"
            ]
          },
          "metadata": {
            "tags": []
          },
          "execution_count": 6
        }
      ]
    },
    {
      "cell_type": "code",
      "metadata": {
        "colab": {
          "base_uri": "https://localhost:8080/"
        },
        "id": "T0AYtrh37CmQ",
        "outputId": "f3a80c07-9d69-4502-e3a3-61925e6d7f7b"
      },
      "source": [
        "df.dropna(axis=0,inplace=True) # Year column의 NaN값이 포함된 열 전체 제거 -> 전체 data의 양 중 1%\n",
        "df.isnull().sum() # 결측치 제거 후 수치 확인함"
      ],
      "execution_count": 7,
      "outputs": [
        {
          "output_type": "execute_result",
          "data": {
            "text/plain": [
              "Unnamed: 0     0\n",
              "Name           0\n",
              "Platform       0\n",
              "Year           0\n",
              "Genre          0\n",
              "Publisher      0\n",
              "NA_Sales       0\n",
              "EU_Sales       0\n",
              "JP_Sales       0\n",
              "Other_Sales    0\n",
              "dtype: int64"
            ]
          },
          "metadata": {
            "tags": []
          },
          "execution_count": 7
        }
      ]
    },
    {
      "cell_type": "code",
      "metadata": {
        "colab": {
          "base_uri": "https://localhost:8080/"
        },
        "id": "48KR7alkv0pV",
        "outputId": "032e5b0a-8f40-458d-9b0a-45b05e047f19"
      },
      "source": [
        "df.shape"
      ],
      "execution_count": 8,
      "outputs": [
        {
          "output_type": "execute_result",
          "data": {
            "text/plain": [
              "(16241, 10)"
            ]
          },
          "metadata": {
            "tags": []
          },
          "execution_count": 8
        }
      ]
    },
    {
      "cell_type": "code",
      "metadata": {
        "colab": {
          "base_uri": "https://localhost:8080/"
        },
        "id": "h39rrDmKiYHY",
        "outputId": "b9f1a2a8-4682-4699-fb4b-6ec845f6fa8a"
      },
      "source": [
        "df['Year'].astype(int) "
      ],
      "execution_count": 9,
      "outputs": [
        {
          "output_type": "execute_result",
          "data": {
            "text/plain": [
              "0        2008\n",
              "1        2009\n",
              "2        2010\n",
              "3        2010\n",
              "4        2010\n",
              "         ... \n",
              "16593    2006\n",
              "16594    2005\n",
              "16595    2015\n",
              "16596    2013\n",
              "16597    1996\n",
              "Name: Year, Length: 16241, dtype: int64"
            ]
          },
          "metadata": {
            "tags": []
          },
          "execution_count": 9
        }
      ]
    },
    {
      "cell_type": "code",
      "metadata": {
        "id": "9GCHj7av-tAd",
        "colab": {
          "base_uri": "https://localhost:8080/",
          "height": 424
        },
        "outputId": "4ca79eea-1006-4429-8981-457b362c6b59"
      },
      "source": [
        "# 불러온 data의 year column에 data 가공을 위해 \n",
        "# 0 ~ 20 은 + 2000\n",
        "# 79 ~ 100 은 + 1900\n",
        "# 을 해서 data 가공을 진행함\n",
        "\n",
        "def change_year(x) :\n",
        "    if 79<x<100 in df['Year'] :\n",
        "       return x+1900\n",
        "    elif 0<= x <20 in df['Year'] : \n",
        "       return x+2000\n",
        "    else :\n",
        "       return x\n",
        "\n",
        "df['Year']=df['Year'].apply(change_year)\n",
        "# df1 = df.sort_values(by=['Year'], axis=0, ascending = True)\n",
        "# df2.sort_values(by=['NA_Sales'], axis=0, ascending = False)\n",
        "df['Year'].describe()\n",
        "df"
      ],
      "execution_count": 10,
      "outputs": [
        {
          "output_type": "execute_result",
          "data": {
            "text/html": [
              "<div>\n",
              "<style scoped>\n",
              "    .dataframe tbody tr th:only-of-type {\n",
              "        vertical-align: middle;\n",
              "    }\n",
              "\n",
              "    .dataframe tbody tr th {\n",
              "        vertical-align: top;\n",
              "    }\n",
              "\n",
              "    .dataframe thead th {\n",
              "        text-align: right;\n",
              "    }\n",
              "</style>\n",
              "<table border=\"1\" class=\"dataframe\">\n",
              "  <thead>\n",
              "    <tr style=\"text-align: right;\">\n",
              "      <th></th>\n",
              "      <th>Unnamed: 0</th>\n",
              "      <th>Name</th>\n",
              "      <th>Platform</th>\n",
              "      <th>Year</th>\n",
              "      <th>Genre</th>\n",
              "      <th>Publisher</th>\n",
              "      <th>NA_Sales</th>\n",
              "      <th>EU_Sales</th>\n",
              "      <th>JP_Sales</th>\n",
              "      <th>Other_Sales</th>\n",
              "    </tr>\n",
              "  </thead>\n",
              "  <tbody>\n",
              "    <tr>\n",
              "      <th>0</th>\n",
              "      <td>1</td>\n",
              "      <td>Candace Kane's Candy Factory</td>\n",
              "      <td>DS</td>\n",
              "      <td>2008.0</td>\n",
              "      <td>Action</td>\n",
              "      <td>Destineer</td>\n",
              "      <td>0.04</td>\n",
              "      <td>0</td>\n",
              "      <td>0</td>\n",
              "      <td>0</td>\n",
              "    </tr>\n",
              "    <tr>\n",
              "      <th>1</th>\n",
              "      <td>2</td>\n",
              "      <td>The Munchables</td>\n",
              "      <td>Wii</td>\n",
              "      <td>2009.0</td>\n",
              "      <td>Action</td>\n",
              "      <td>Namco Bandai Games</td>\n",
              "      <td>0.17</td>\n",
              "      <td>0</td>\n",
              "      <td>0</td>\n",
              "      <td>0.01</td>\n",
              "    </tr>\n",
              "    <tr>\n",
              "      <th>2</th>\n",
              "      <td>3</td>\n",
              "      <td>Otome wa Oanesama Boku ni Koi Shiteru Portable</td>\n",
              "      <td>PSP</td>\n",
              "      <td>2010.0</td>\n",
              "      <td>Adventure</td>\n",
              "      <td>Alchemist</td>\n",
              "      <td>0</td>\n",
              "      <td>0</td>\n",
              "      <td>0.02</td>\n",
              "      <td>0</td>\n",
              "    </tr>\n",
              "    <tr>\n",
              "      <th>3</th>\n",
              "      <td>4</td>\n",
              "      <td>Deal or No Deal: Special Edition</td>\n",
              "      <td>DS</td>\n",
              "      <td>2010.0</td>\n",
              "      <td>Misc</td>\n",
              "      <td>Zoo Games</td>\n",
              "      <td>0.04</td>\n",
              "      <td>0</td>\n",
              "      <td>0</td>\n",
              "      <td>0</td>\n",
              "    </tr>\n",
              "    <tr>\n",
              "      <th>4</th>\n",
              "      <td>5</td>\n",
              "      <td>Ben 10 Ultimate Alien: Cosmic Destruction</td>\n",
              "      <td>PS3</td>\n",
              "      <td>2010.0</td>\n",
              "      <td>Platform</td>\n",
              "      <td>D3Publisher</td>\n",
              "      <td>0.12</td>\n",
              "      <td>0.09</td>\n",
              "      <td>0</td>\n",
              "      <td>0.04</td>\n",
              "    </tr>\n",
              "    <tr>\n",
              "      <th>...</th>\n",
              "      <td>...</td>\n",
              "      <td>...</td>\n",
              "      <td>...</td>\n",
              "      <td>...</td>\n",
              "      <td>...</td>\n",
              "      <td>...</td>\n",
              "      <td>...</td>\n",
              "      <td>...</td>\n",
              "      <td>...</td>\n",
              "      <td>...</td>\n",
              "    </tr>\n",
              "    <tr>\n",
              "      <th>16593</th>\n",
              "      <td>16594</td>\n",
              "      <td>Ice Age 2: The Meltdown</td>\n",
              "      <td>GC</td>\n",
              "      <td>2006.0</td>\n",
              "      <td>Platform</td>\n",
              "      <td>Vivendi Games</td>\n",
              "      <td>0.15</td>\n",
              "      <td>0.04</td>\n",
              "      <td>0</td>\n",
              "      <td>0.01</td>\n",
              "    </tr>\n",
              "    <tr>\n",
              "      <th>16594</th>\n",
              "      <td>16595</td>\n",
              "      <td>Rainbow Islands: Revolution</td>\n",
              "      <td>PSP</td>\n",
              "      <td>2005.0</td>\n",
              "      <td>Action</td>\n",
              "      <td>Rising Star Games</td>\n",
              "      <td>0.01</td>\n",
              "      <td>0</td>\n",
              "      <td>0</td>\n",
              "      <td>0</td>\n",
              "    </tr>\n",
              "    <tr>\n",
              "      <th>16595</th>\n",
              "      <td>16596</td>\n",
              "      <td>NBA 2K16</td>\n",
              "      <td>PS3</td>\n",
              "      <td>2015.0</td>\n",
              "      <td>Sports</td>\n",
              "      <td>Take-Two Interactive</td>\n",
              "      <td>0.44</td>\n",
              "      <td>0.19</td>\n",
              "      <td>0.03</td>\n",
              "      <td>0.13</td>\n",
              "    </tr>\n",
              "    <tr>\n",
              "      <th>16596</th>\n",
              "      <td>16597</td>\n",
              "      <td>Toukiden: The Age of Demons</td>\n",
              "      <td>PSV</td>\n",
              "      <td>2013.0</td>\n",
              "      <td>Action</td>\n",
              "      <td>Tecmo Koei</td>\n",
              "      <td>0.05</td>\n",
              "      <td>0.05</td>\n",
              "      <td>0.25</td>\n",
              "      <td>0.03</td>\n",
              "    </tr>\n",
              "    <tr>\n",
              "      <th>16597</th>\n",
              "      <td>16598</td>\n",
              "      <td>The King of Fighters '95</td>\n",
              "      <td>PS</td>\n",
              "      <td>1996.0</td>\n",
              "      <td>Fighting</td>\n",
              "      <td>Sony Computer Entertainment</td>\n",
              "      <td>0</td>\n",
              "      <td>0</td>\n",
              "      <td>0.16</td>\n",
              "      <td>0.01</td>\n",
              "    </tr>\n",
              "  </tbody>\n",
              "</table>\n",
              "<p>16241 rows × 10 columns</p>\n",
              "</div>"
            ],
            "text/plain": [
              "       Unnamed: 0  ... Other_Sales\n",
              "0               1  ...           0\n",
              "1               2  ...        0.01\n",
              "2               3  ...           0\n",
              "3               4  ...           0\n",
              "4               5  ...        0.04\n",
              "...           ...  ...         ...\n",
              "16593       16594  ...        0.01\n",
              "16594       16595  ...           0\n",
              "16595       16596  ...        0.13\n",
              "16596       16597  ...        0.03\n",
              "16597       16598  ...        0.01\n",
              "\n",
              "[16241 rows x 10 columns]"
            ]
          },
          "metadata": {
            "tags": []
          },
          "execution_count": 10
        }
      ]
    },
    {
      "cell_type": "code",
      "metadata": {
        "id": "VLNylNzywaL-",
        "colab": {
          "base_uri": "https://localhost:8080/",
          "height": 424
        },
        "outputId": "deb4b85e-be91-4dfe-c452-54aadb9d4902"
      },
      "source": [
        "# data 정리 후 index를 reset하고 unnamed column을 제거하고\n",
        "# df1로 저장함\n",
        "\n",
        "df.reset_index()\n",
        "df1=df.drop(['Unnamed: 0'],axis=1)\n",
        "df1"
      ],
      "execution_count": 11,
      "outputs": [
        {
          "output_type": "execute_result",
          "data": {
            "text/html": [
              "<div>\n",
              "<style scoped>\n",
              "    .dataframe tbody tr th:only-of-type {\n",
              "        vertical-align: middle;\n",
              "    }\n",
              "\n",
              "    .dataframe tbody tr th {\n",
              "        vertical-align: top;\n",
              "    }\n",
              "\n",
              "    .dataframe thead th {\n",
              "        text-align: right;\n",
              "    }\n",
              "</style>\n",
              "<table border=\"1\" class=\"dataframe\">\n",
              "  <thead>\n",
              "    <tr style=\"text-align: right;\">\n",
              "      <th></th>\n",
              "      <th>Name</th>\n",
              "      <th>Platform</th>\n",
              "      <th>Year</th>\n",
              "      <th>Genre</th>\n",
              "      <th>Publisher</th>\n",
              "      <th>NA_Sales</th>\n",
              "      <th>EU_Sales</th>\n",
              "      <th>JP_Sales</th>\n",
              "      <th>Other_Sales</th>\n",
              "    </tr>\n",
              "  </thead>\n",
              "  <tbody>\n",
              "    <tr>\n",
              "      <th>0</th>\n",
              "      <td>Candace Kane's Candy Factory</td>\n",
              "      <td>DS</td>\n",
              "      <td>2008.0</td>\n",
              "      <td>Action</td>\n",
              "      <td>Destineer</td>\n",
              "      <td>0.04</td>\n",
              "      <td>0</td>\n",
              "      <td>0</td>\n",
              "      <td>0</td>\n",
              "    </tr>\n",
              "    <tr>\n",
              "      <th>1</th>\n",
              "      <td>The Munchables</td>\n",
              "      <td>Wii</td>\n",
              "      <td>2009.0</td>\n",
              "      <td>Action</td>\n",
              "      <td>Namco Bandai Games</td>\n",
              "      <td>0.17</td>\n",
              "      <td>0</td>\n",
              "      <td>0</td>\n",
              "      <td>0.01</td>\n",
              "    </tr>\n",
              "    <tr>\n",
              "      <th>2</th>\n",
              "      <td>Otome wa Oanesama Boku ni Koi Shiteru Portable</td>\n",
              "      <td>PSP</td>\n",
              "      <td>2010.0</td>\n",
              "      <td>Adventure</td>\n",
              "      <td>Alchemist</td>\n",
              "      <td>0</td>\n",
              "      <td>0</td>\n",
              "      <td>0.02</td>\n",
              "      <td>0</td>\n",
              "    </tr>\n",
              "    <tr>\n",
              "      <th>3</th>\n",
              "      <td>Deal or No Deal: Special Edition</td>\n",
              "      <td>DS</td>\n",
              "      <td>2010.0</td>\n",
              "      <td>Misc</td>\n",
              "      <td>Zoo Games</td>\n",
              "      <td>0.04</td>\n",
              "      <td>0</td>\n",
              "      <td>0</td>\n",
              "      <td>0</td>\n",
              "    </tr>\n",
              "    <tr>\n",
              "      <th>4</th>\n",
              "      <td>Ben 10 Ultimate Alien: Cosmic Destruction</td>\n",
              "      <td>PS3</td>\n",
              "      <td>2010.0</td>\n",
              "      <td>Platform</td>\n",
              "      <td>D3Publisher</td>\n",
              "      <td>0.12</td>\n",
              "      <td>0.09</td>\n",
              "      <td>0</td>\n",
              "      <td>0.04</td>\n",
              "    </tr>\n",
              "    <tr>\n",
              "      <th>...</th>\n",
              "      <td>...</td>\n",
              "      <td>...</td>\n",
              "      <td>...</td>\n",
              "      <td>...</td>\n",
              "      <td>...</td>\n",
              "      <td>...</td>\n",
              "      <td>...</td>\n",
              "      <td>...</td>\n",
              "      <td>...</td>\n",
              "    </tr>\n",
              "    <tr>\n",
              "      <th>16593</th>\n",
              "      <td>Ice Age 2: The Meltdown</td>\n",
              "      <td>GC</td>\n",
              "      <td>2006.0</td>\n",
              "      <td>Platform</td>\n",
              "      <td>Vivendi Games</td>\n",
              "      <td>0.15</td>\n",
              "      <td>0.04</td>\n",
              "      <td>0</td>\n",
              "      <td>0.01</td>\n",
              "    </tr>\n",
              "    <tr>\n",
              "      <th>16594</th>\n",
              "      <td>Rainbow Islands: Revolution</td>\n",
              "      <td>PSP</td>\n",
              "      <td>2005.0</td>\n",
              "      <td>Action</td>\n",
              "      <td>Rising Star Games</td>\n",
              "      <td>0.01</td>\n",
              "      <td>0</td>\n",
              "      <td>0</td>\n",
              "      <td>0</td>\n",
              "    </tr>\n",
              "    <tr>\n",
              "      <th>16595</th>\n",
              "      <td>NBA 2K16</td>\n",
              "      <td>PS3</td>\n",
              "      <td>2015.0</td>\n",
              "      <td>Sports</td>\n",
              "      <td>Take-Two Interactive</td>\n",
              "      <td>0.44</td>\n",
              "      <td>0.19</td>\n",
              "      <td>0.03</td>\n",
              "      <td>0.13</td>\n",
              "    </tr>\n",
              "    <tr>\n",
              "      <th>16596</th>\n",
              "      <td>Toukiden: The Age of Demons</td>\n",
              "      <td>PSV</td>\n",
              "      <td>2013.0</td>\n",
              "      <td>Action</td>\n",
              "      <td>Tecmo Koei</td>\n",
              "      <td>0.05</td>\n",
              "      <td>0.05</td>\n",
              "      <td>0.25</td>\n",
              "      <td>0.03</td>\n",
              "    </tr>\n",
              "    <tr>\n",
              "      <th>16597</th>\n",
              "      <td>The King of Fighters '95</td>\n",
              "      <td>PS</td>\n",
              "      <td>1996.0</td>\n",
              "      <td>Fighting</td>\n",
              "      <td>Sony Computer Entertainment</td>\n",
              "      <td>0</td>\n",
              "      <td>0</td>\n",
              "      <td>0.16</td>\n",
              "      <td>0.01</td>\n",
              "    </tr>\n",
              "  </tbody>\n",
              "</table>\n",
              "<p>16241 rows × 9 columns</p>\n",
              "</div>"
            ],
            "text/plain": [
              "                                                 Name  ... Other_Sales\n",
              "0                        Candace Kane's Candy Factory  ...           0\n",
              "1                                      The Munchables  ...        0.01\n",
              "2      Otome wa Oanesama Boku ni Koi Shiteru Portable  ...           0\n",
              "3                    Deal or No Deal: Special Edition  ...           0\n",
              "4           Ben 10 Ultimate Alien: Cosmic Destruction  ...        0.04\n",
              "...                                               ...  ...         ...\n",
              "16593                         Ice Age 2: The Meltdown  ...        0.01\n",
              "16594                     Rainbow Islands: Revolution  ...           0\n",
              "16595                                        NBA 2K16  ...        0.13\n",
              "16596                     Toukiden: The Age of Demons  ...        0.03\n",
              "16597                        The King of Fighters '95  ...        0.01\n",
              "\n",
              "[16241 rows x 9 columns]"
            ]
          },
          "metadata": {
            "tags": []
          },
          "execution_count": 11
        }
      ]
    },
    {
      "cell_type": "code",
      "metadata": {
        "id": "PI62TGHp0vV-",
        "colab": {
          "base_uri": "https://localhost:8080/"
        },
        "outputId": "e7845444-f524-44ac-c54c-abc9a7044c18"
      },
      "source": [
        "# df1의 결측치를 확인한뒤\n",
        "\n",
        "df1.isnull().sum()"
      ],
      "execution_count": 12,
      "outputs": [
        {
          "output_type": "execute_result",
          "data": {
            "text/plain": [
              "Name           0\n",
              "Platform       0\n",
              "Year           0\n",
              "Genre          0\n",
              "Publisher      0\n",
              "NA_Sales       0\n",
              "EU_Sales       0\n",
              "JP_Sales       0\n",
              "Other_Sales    0\n",
              "dtype: int64"
            ]
          },
          "metadata": {
            "tags": []
          },
          "execution_count": 12
        }
      ]
    },
    {
      "cell_type": "code",
      "metadata": {
        "id": "CcCqHrxvPDoy"
      },
      "source": [
        "# 지역별 판매량 수치 정리를 위해 'K'에는 0.001을 곱해주고, 'M'에는 1을 곱해줍니다.\n",
        "\n",
        "df1.NA_Sales = (df1.NA_Sales.replace(r'[KM]+$', '', regex=True).astype(float) * \\\n",
        "                df1.NA_Sales.str.extract(r'[\\d\\.]+([KM]+)', expand=False)\n",
        "                .fillna(1)\n",
        "                .replace(['K','M'], [0.001, 1]).astype(int))\n",
        "df1.EU_Sales = (df1.EU_Sales.replace(r'[KM]+$', '', regex=True).astype(float) * \\\n",
        "                df1.EU_Sales.str.extract(r'[\\d\\.]+([KM]+)', expand=False)\n",
        "                .fillna(1)\n",
        "                .replace(['K','M'], [0.001, 1]).astype(int))\n",
        "df1.JP_Sales = (df1.JP_Sales.replace(r'[KM]+$', '', regex=True).astype(float) * \\\n",
        "                df1.JP_Sales.str.extract(r'[\\d\\.]+([KM]+)', expand=False)\n",
        "                .fillna(1)\n",
        "                .replace(['K','M'], [0.001, 1]).astype(int))\n",
        "df1.Other_Sales = (df1.Other_Sales.replace(r'[KM]+$', '', regex=True).astype(float) * \\\n",
        "                   df1.Other_Sales.str.extract(r'[\\d\\.]+([KM]+)', expand=False)\n",
        "                   .fillna(1)\n",
        "                   .replace(['K','M'], [0.001, 1]).astype(int))\n",
        "\n",
        "# 변경된 데이터에 일괄 10**6을 해서 자료정리를 완료합니다.\n",
        "\n",
        "df1['NA_Sales']=df1['NA_Sales']*(10**6)\n",
        "df1['EU_Sales']=df1['EU_Sales']*(10**6)\n",
        "df1['JP_Sales']=df1['JP_Sales']*(10**6)\n",
        "df1['Other_Sales']=df1['Other_Sales']*(10**6)\n",
        "\n",
        "# df2의 platform 의 2600을 A2600 (Altari)으로 변경합니다.(헷갈림 방지)\n",
        "\n",
        "df1['Platform'].replace({'2600' : 'A2600'},inplace = True)\n"
      ],
      "execution_count": 13,
      "outputs": []
    },
    {
      "cell_type": "code",
      "metadata": {
        "colab": {
          "base_uri": "https://localhost:8080/",
          "height": 424
        },
        "id": "3jAA4QDXv9PA",
        "outputId": "bb9211f0-f873-4f78-d3d7-540809240a5a"
      },
      "source": [
        "df1"
      ],
      "execution_count": 14,
      "outputs": [
        {
          "output_type": "execute_result",
          "data": {
            "text/html": [
              "<div>\n",
              "<style scoped>\n",
              "    .dataframe tbody tr th:only-of-type {\n",
              "        vertical-align: middle;\n",
              "    }\n",
              "\n",
              "    .dataframe tbody tr th {\n",
              "        vertical-align: top;\n",
              "    }\n",
              "\n",
              "    .dataframe thead th {\n",
              "        text-align: right;\n",
              "    }\n",
              "</style>\n",
              "<table border=\"1\" class=\"dataframe\">\n",
              "  <thead>\n",
              "    <tr style=\"text-align: right;\">\n",
              "      <th></th>\n",
              "      <th>Name</th>\n",
              "      <th>Platform</th>\n",
              "      <th>Year</th>\n",
              "      <th>Genre</th>\n",
              "      <th>Publisher</th>\n",
              "      <th>NA_Sales</th>\n",
              "      <th>EU_Sales</th>\n",
              "      <th>JP_Sales</th>\n",
              "      <th>Other_Sales</th>\n",
              "    </tr>\n",
              "  </thead>\n",
              "  <tbody>\n",
              "    <tr>\n",
              "      <th>0</th>\n",
              "      <td>Candace Kane's Candy Factory</td>\n",
              "      <td>DS</td>\n",
              "      <td>2008.0</td>\n",
              "      <td>Action</td>\n",
              "      <td>Destineer</td>\n",
              "      <td>40000.0</td>\n",
              "      <td>0.0</td>\n",
              "      <td>0.0</td>\n",
              "      <td>0.0</td>\n",
              "    </tr>\n",
              "    <tr>\n",
              "      <th>1</th>\n",
              "      <td>The Munchables</td>\n",
              "      <td>Wii</td>\n",
              "      <td>2009.0</td>\n",
              "      <td>Action</td>\n",
              "      <td>Namco Bandai Games</td>\n",
              "      <td>170000.0</td>\n",
              "      <td>0.0</td>\n",
              "      <td>0.0</td>\n",
              "      <td>10000.0</td>\n",
              "    </tr>\n",
              "    <tr>\n",
              "      <th>2</th>\n",
              "      <td>Otome wa Oanesama Boku ni Koi Shiteru Portable</td>\n",
              "      <td>PSP</td>\n",
              "      <td>2010.0</td>\n",
              "      <td>Adventure</td>\n",
              "      <td>Alchemist</td>\n",
              "      <td>0.0</td>\n",
              "      <td>0.0</td>\n",
              "      <td>20000.0</td>\n",
              "      <td>0.0</td>\n",
              "    </tr>\n",
              "    <tr>\n",
              "      <th>3</th>\n",
              "      <td>Deal or No Deal: Special Edition</td>\n",
              "      <td>DS</td>\n",
              "      <td>2010.0</td>\n",
              "      <td>Misc</td>\n",
              "      <td>Zoo Games</td>\n",
              "      <td>40000.0</td>\n",
              "      <td>0.0</td>\n",
              "      <td>0.0</td>\n",
              "      <td>0.0</td>\n",
              "    </tr>\n",
              "    <tr>\n",
              "      <th>4</th>\n",
              "      <td>Ben 10 Ultimate Alien: Cosmic Destruction</td>\n",
              "      <td>PS3</td>\n",
              "      <td>2010.0</td>\n",
              "      <td>Platform</td>\n",
              "      <td>D3Publisher</td>\n",
              "      <td>120000.0</td>\n",
              "      <td>90000.0</td>\n",
              "      <td>0.0</td>\n",
              "      <td>40000.0</td>\n",
              "    </tr>\n",
              "    <tr>\n",
              "      <th>...</th>\n",
              "      <td>...</td>\n",
              "      <td>...</td>\n",
              "      <td>...</td>\n",
              "      <td>...</td>\n",
              "      <td>...</td>\n",
              "      <td>...</td>\n",
              "      <td>...</td>\n",
              "      <td>...</td>\n",
              "      <td>...</td>\n",
              "    </tr>\n",
              "    <tr>\n",
              "      <th>16593</th>\n",
              "      <td>Ice Age 2: The Meltdown</td>\n",
              "      <td>GC</td>\n",
              "      <td>2006.0</td>\n",
              "      <td>Platform</td>\n",
              "      <td>Vivendi Games</td>\n",
              "      <td>150000.0</td>\n",
              "      <td>40000.0</td>\n",
              "      <td>0.0</td>\n",
              "      <td>10000.0</td>\n",
              "    </tr>\n",
              "    <tr>\n",
              "      <th>16594</th>\n",
              "      <td>Rainbow Islands: Revolution</td>\n",
              "      <td>PSP</td>\n",
              "      <td>2005.0</td>\n",
              "      <td>Action</td>\n",
              "      <td>Rising Star Games</td>\n",
              "      <td>10000.0</td>\n",
              "      <td>0.0</td>\n",
              "      <td>0.0</td>\n",
              "      <td>0.0</td>\n",
              "    </tr>\n",
              "    <tr>\n",
              "      <th>16595</th>\n",
              "      <td>NBA 2K16</td>\n",
              "      <td>PS3</td>\n",
              "      <td>2015.0</td>\n",
              "      <td>Sports</td>\n",
              "      <td>Take-Two Interactive</td>\n",
              "      <td>440000.0</td>\n",
              "      <td>190000.0</td>\n",
              "      <td>30000.0</td>\n",
              "      <td>130000.0</td>\n",
              "    </tr>\n",
              "    <tr>\n",
              "      <th>16596</th>\n",
              "      <td>Toukiden: The Age of Demons</td>\n",
              "      <td>PSV</td>\n",
              "      <td>2013.0</td>\n",
              "      <td>Action</td>\n",
              "      <td>Tecmo Koei</td>\n",
              "      <td>50000.0</td>\n",
              "      <td>50000.0</td>\n",
              "      <td>250000.0</td>\n",
              "      <td>30000.0</td>\n",
              "    </tr>\n",
              "    <tr>\n",
              "      <th>16597</th>\n",
              "      <td>The King of Fighters '95</td>\n",
              "      <td>PS</td>\n",
              "      <td>1996.0</td>\n",
              "      <td>Fighting</td>\n",
              "      <td>Sony Computer Entertainment</td>\n",
              "      <td>0.0</td>\n",
              "      <td>0.0</td>\n",
              "      <td>160000.0</td>\n",
              "      <td>10000.0</td>\n",
              "    </tr>\n",
              "  </tbody>\n",
              "</table>\n",
              "<p>16241 rows × 9 columns</p>\n",
              "</div>"
            ],
            "text/plain": [
              "                                                 Name  ... Other_Sales\n",
              "0                        Candace Kane's Candy Factory  ...         0.0\n",
              "1                                      The Munchables  ...     10000.0\n",
              "2      Otome wa Oanesama Boku ni Koi Shiteru Portable  ...         0.0\n",
              "3                    Deal or No Deal: Special Edition  ...         0.0\n",
              "4           Ben 10 Ultimate Alien: Cosmic Destruction  ...     40000.0\n",
              "...                                               ...  ...         ...\n",
              "16593                         Ice Age 2: The Meltdown  ...     10000.0\n",
              "16594                     Rainbow Islands: Revolution  ...         0.0\n",
              "16595                                        NBA 2K16  ...    130000.0\n",
              "16596                     Toukiden: The Age of Demons  ...     30000.0\n",
              "16597                        The King of Fighters '95  ...     10000.0\n",
              "\n",
              "[16241 rows x 9 columns]"
            ]
          },
          "metadata": {
            "tags": []
          },
          "execution_count": 14
        }
      ]
    },
    {
      "cell_type": "code",
      "metadata": {
        "id": "gBDy1VrnzfYw",
        "colab": {
          "base_uri": "https://localhost:8080/",
          "height": 577
        },
        "outputId": "08a08d34-7600-48ee-c52b-7d493b5f3955"
      },
      "source": [
        "# 판매량 데이터 object -> float64 로 변경확인\n",
        "# 판매량은 1980년 ~ 2020년 까지의 판매량 data입니다.\n",
        "\n",
        "df1.info()\n",
        "df1.describe()"
      ],
      "execution_count": 15,
      "outputs": [
        {
          "output_type": "stream",
          "text": [
            "<class 'pandas.core.frame.DataFrame'>\n",
            "Int64Index: 16241 entries, 0 to 16597\n",
            "Data columns (total 9 columns):\n",
            " #   Column       Non-Null Count  Dtype  \n",
            "---  ------       --------------  -----  \n",
            " 0   Name         16241 non-null  object \n",
            " 1   Platform     16241 non-null  object \n",
            " 2   Year         16241 non-null  float64\n",
            " 3   Genre        16241 non-null  object \n",
            " 4   Publisher    16241 non-null  object \n",
            " 5   NA_Sales     16241 non-null  float64\n",
            " 6   EU_Sales     16241 non-null  float64\n",
            " 7   JP_Sales     16241 non-null  float64\n",
            " 8   Other_Sales  16241 non-null  float64\n",
            "dtypes: float64(5), object(4)\n",
            "memory usage: 1.9+ MB\n"
          ],
          "name": "stdout"
        },
        {
          "output_type": "execute_result",
          "data": {
            "text/html": [
              "<div>\n",
              "<style scoped>\n",
              "    .dataframe tbody tr th:only-of-type {\n",
              "        vertical-align: middle;\n",
              "    }\n",
              "\n",
              "    .dataframe tbody tr th {\n",
              "        vertical-align: top;\n",
              "    }\n",
              "\n",
              "    .dataframe thead th {\n",
              "        text-align: right;\n",
              "    }\n",
              "</style>\n",
              "<table border=\"1\" class=\"dataframe\">\n",
              "  <thead>\n",
              "    <tr style=\"text-align: right;\">\n",
              "      <th></th>\n",
              "      <th>Year</th>\n",
              "      <th>NA_Sales</th>\n",
              "      <th>EU_Sales</th>\n",
              "      <th>JP_Sales</th>\n",
              "      <th>Other_Sales</th>\n",
              "    </tr>\n",
              "  </thead>\n",
              "  <tbody>\n",
              "    <tr>\n",
              "      <th>count</th>\n",
              "      <td>16241.000000</td>\n",
              "      <td>1.624100e+04</td>\n",
              "      <td>1.624100e+04</td>\n",
              "      <td>1.624100e+04</td>\n",
              "      <td>1.624100e+04</td>\n",
              "    </tr>\n",
              "    <tr>\n",
              "      <th>mean</th>\n",
              "      <td>2006.406748</td>\n",
              "      <td>2.632689e+05</td>\n",
              "      <td>1.464460e+05</td>\n",
              "      <td>7.781356e+04</td>\n",
              "      <td>4.800197e+04</td>\n",
              "    </tr>\n",
              "    <tr>\n",
              "      <th>std</th>\n",
              "      <td>5.832087</td>\n",
              "      <td>8.210906e+05</td>\n",
              "      <td>5.075947e+05</td>\n",
              "      <td>3.084425e+05</td>\n",
              "      <td>1.895955e+05</td>\n",
              "    </tr>\n",
              "    <tr>\n",
              "      <th>min</th>\n",
              "      <td>1980.000000</td>\n",
              "      <td>0.000000e+00</td>\n",
              "      <td>0.000000e+00</td>\n",
              "      <td>0.000000e+00</td>\n",
              "      <td>0.000000e+00</td>\n",
              "    </tr>\n",
              "    <tr>\n",
              "      <th>25%</th>\n",
              "      <td>2003.000000</td>\n",
              "      <td>0.000000e+00</td>\n",
              "      <td>0.000000e+00</td>\n",
              "      <td>0.000000e+00</td>\n",
              "      <td>0.000000e+00</td>\n",
              "    </tr>\n",
              "    <tr>\n",
              "      <th>50%</th>\n",
              "      <td>2007.000000</td>\n",
              "      <td>8.000000e+04</td>\n",
              "      <td>2.000000e+04</td>\n",
              "      <td>0.000000e+00</td>\n",
              "      <td>1.000000e+04</td>\n",
              "    </tr>\n",
              "    <tr>\n",
              "      <th>75%</th>\n",
              "      <td>2010.000000</td>\n",
              "      <td>2.400000e+05</td>\n",
              "      <td>1.100000e+05</td>\n",
              "      <td>4.000000e+04</td>\n",
              "      <td>3.000000e+04</td>\n",
              "    </tr>\n",
              "    <tr>\n",
              "      <th>max</th>\n",
              "      <td>2020.000000</td>\n",
              "      <td>4.149000e+07</td>\n",
              "      <td>2.902000e+07</td>\n",
              "      <td>1.022000e+07</td>\n",
              "      <td>1.057000e+07</td>\n",
              "    </tr>\n",
              "  </tbody>\n",
              "</table>\n",
              "</div>"
            ],
            "text/plain": [
              "               Year      NA_Sales      EU_Sales      JP_Sales   Other_Sales\n",
              "count  16241.000000  1.624100e+04  1.624100e+04  1.624100e+04  1.624100e+04\n",
              "mean    2006.406748  2.632689e+05  1.464460e+05  7.781356e+04  4.800197e+04\n",
              "std        5.832087  8.210906e+05  5.075947e+05  3.084425e+05  1.895955e+05\n",
              "min     1980.000000  0.000000e+00  0.000000e+00  0.000000e+00  0.000000e+00\n",
              "25%     2003.000000  0.000000e+00  0.000000e+00  0.000000e+00  0.000000e+00\n",
              "50%     2007.000000  8.000000e+04  2.000000e+04  0.000000e+00  1.000000e+04\n",
              "75%     2010.000000  2.400000e+05  1.100000e+05  4.000000e+04  3.000000e+04\n",
              "max     2020.000000  4.149000e+07  2.902000e+07  1.022000e+07  1.057000e+07"
            ]
          },
          "metadata": {
            "tags": []
          },
          "execution_count": 15
        }
      ]
    },
    {
      "cell_type": "markdown",
      "metadata": {
        "id": "SdVMmJ3Bab_W"
      },
      "source": [
        "# 지역별 선호 게임장르는 다른가!? 를 알아보기 위해 다음과 같은 과정을 거쳤습니다.\n",
        "\n",
        "1. 지역별 총 판매량을 알아보고\n",
        "2. 각 지역별 판매량 상위 100개의 장르 유사성을 알아봅니다."
      ]
    },
    {
      "cell_type": "code",
      "metadata": {
        "colab": {
          "base_uri": "https://localhost:8080/",
          "height": 174
        },
        "id": "7eHASHeT_Yst",
        "outputId": "e8d1cb7e-b824-4a97-ee1e-b68f782bc2cf"
      },
      "source": [
        "# 각 지역별 총 판매량 - 각지역의 시장 규모를 알아보기 위해 총 판매량을 조사\n",
        "region_sales=pd.DataFrame({'NAsum':[df1['NA_Sales'].sum()],'EUsum':[df1['EU_Sales'].sum()],'JPsum':[df1['JP_Sales'].sum()],'OTsum':[df1['Other_Sales'].sum()]})\n",
        "region_sales_total=region_sales.rename(index={0:'region'}).T\n",
        "region_sales_total"
      ],
      "execution_count": 69,
      "outputs": [
        {
          "output_type": "execute_result",
          "data": {
            "text/html": [
              "<div>\n",
              "<style scoped>\n",
              "    .dataframe tbody tr th:only-of-type {\n",
              "        vertical-align: middle;\n",
              "    }\n",
              "\n",
              "    .dataframe tbody tr th {\n",
              "        vertical-align: top;\n",
              "    }\n",
              "\n",
              "    .dataframe thead th {\n",
              "        text-align: right;\n",
              "    }\n",
              "</style>\n",
              "<table border=\"1\" class=\"dataframe\">\n",
              "  <thead>\n",
              "    <tr style=\"text-align: right;\">\n",
              "      <th></th>\n",
              "      <th>region</th>\n",
              "    </tr>\n",
              "  </thead>\n",
              "  <tbody>\n",
              "    <tr>\n",
              "      <th>NAsum</th>\n",
              "      <td>4.275750e+09</td>\n",
              "    </tr>\n",
              "    <tr>\n",
              "      <th>EUsum</th>\n",
              "      <td>2.378430e+09</td>\n",
              "    </tr>\n",
              "    <tr>\n",
              "      <th>JPsum</th>\n",
              "      <td>1.263770e+09</td>\n",
              "    </tr>\n",
              "    <tr>\n",
              "      <th>OTsum</th>\n",
              "      <td>7.796000e+08</td>\n",
              "    </tr>\n",
              "  </tbody>\n",
              "</table>\n",
              "</div>"
            ],
            "text/plain": [
              "             region\n",
              "NAsum  4.275750e+09\n",
              "EUsum  2.378430e+09\n",
              "JPsum  1.263770e+09\n",
              "OTsum  7.796000e+08"
            ]
          },
          "metadata": {
            "tags": []
          },
          "execution_count": 69
        }
      ]
    },
    {
      "cell_type": "code",
      "metadata": {
        "colab": {
          "base_uri": "https://localhost:8080/",
          "height": 390
        },
        "id": "OlBv-TqMF0vn",
        "outputId": "8a1c51a2-1ed1-4b23-a190-3229fd4dc317"
      },
      "source": [
        "region_sales_total['region'].plot.bar(x='region',rot=0, subplots=True,figsize=(10,6));"
      ],
      "execution_count": 17,
      "outputs": [
        {
          "output_type": "display_data",
          "data": {
            "image/png": "[encoded data removed]",
            "text/plain": [
              "<Figure size 720x432 with 1 Axes>"
            ]
          },
          "metadata": {
            "tags": [],
            "needs_background": "light"
          }
        }
      ]
    },
    {
      "cell_type": "code",
      "metadata": {
        "id": "c4ZyF4KrV8wp"
      },
      "source": [
        "# 각 지역별 판매량 top100 내림차순 정렬에 따른 장르 추출\n",
        "\n",
        "df1_Genre_NA = df1.sort_values(by=['NA_Sales'], axis=0, ascending = False).head(100)\n",
        "df1_Genre_EU = df1.sort_values(by=['EU_Sales'], axis=0, ascending = False).head(100)\n",
        "df1_Genre_JP = df1.sort_values(by=['JP_Sales'], axis=0, ascending = False).head(100)\n",
        "df1_Genre_OT = df1.sort_values(by=['Other_Sales'], axis=0, ascending = False).head(100)\n",
        "\n",
        "# df1_Genre_NA[['Genre','NA_Sales']].sort_values(by=['Genre'],axis=0, ascending = False)\n",
        "# top100_Genre = pd.concat([df1_Genre_NA, df1_Genre_EU, df1_Genre_JP, df1_Genre_OT],axis=1)\n",
        "# top100_Genre\n",
        "\n",
        "groupby_Genre_NA = df1_Genre_NA.groupby('Genre')\n",
        "groupby_Genre_EU = df1_Genre_EU.groupby('Genre')\n",
        "groupby_Genre_JP = df1_Genre_JP.groupby('Genre')\n",
        "groupby_Genre_OT = df1_Genre_OT.groupby('Genre')"
      ],
      "execution_count": 18,
      "outputs": []
    },
    {
      "cell_type": "code",
      "metadata": {
        "colab": {
          "base_uri": "https://localhost:8080/",
          "height": 681
        },
        "id": "8wkvhRF7xamU",
        "outputId": "6aa98d73-d0ad-43b1-e538-1fa57264830c"
      },
      "source": [
        "# 북미 지역의 판매량 순으로 정렬해서 상위 100개의 data를 불러온 값 입니다.\n",
        "# 장르별 판매량 상위5등 순서는\n",
        "# Shooter(1억7996만장) -> Platform(1억5445만장) -> Sports(8천735만장) -> Action(7천625만장) -> Misc(6천744만장)\n",
        "\n",
        "Genre100_NA=groupby_Genre_NA['NA_Sales'].sum()\n",
        "Genre100_NA.plot.bar(subplots=True,figsize=(10,6));\n",
        "Genre100_NA.rank(ascending=False)\n"
      ],
      "execution_count": 71,
      "outputs": [
        {
          "output_type": "execute_result",
          "data": {
            "text/plain": [
              "Genre\n",
              "Action           4.0\n",
              "Adventure       11.0\n",
              "Fighting         9.0\n",
              "Misc             5.0\n",
              "Platform         2.0\n",
              "Puzzle           8.0\n",
              "Racing           7.0\n",
              "Role-Playing     6.0\n",
              "Shooter          1.0\n",
              "Simulation      10.0\n",
              "Sports           3.0\n",
              "Name: NA_Sales, dtype: float64"
            ]
          },
          "metadata": {
            "tags": []
          },
          "execution_count": 71
        },
        {
          "output_type": "display_data",
          "data": {
            "image/png": "[encoded data removed]",
            "text/plain": [
              "<Figure size 720x432 with 1 Axes>"
            ]
          },
          "metadata": {
            "tags": [],
            "needs_background": "light"
          }
        }
      ]
    },
    {
      "cell_type": "code",
      "metadata": {
        "colab": {
          "base_uri": "https://localhost:8080/"
        },
        "id": "fiBzrhVy1s41",
        "outputId": "0c2f404d-f6b3-40cb-d0e6-1261bd47c5b5"
      },
      "source": [
        "# Shooter(1억7996만장) -> Platform(1억5445만장) -> Sports(8천735만장) -> Action(7천625만장) -> Misc(6천744만장)\n",
        "\n",
        "Genre100_NA"
      ],
      "execution_count": 73,
      "outputs": [
        {
          "output_type": "execute_result",
          "data": {
            "text/plain": [
              "Genre\n",
              "Action           76250000.0\n",
              "Adventure         6160000.0\n",
              "Fighting         11160000.0\n",
              "Misc             67440000.0\n",
              "Platform        154450000.0\n",
              "Puzzle           30480000.0\n",
              "Racing           54820000.0\n",
              "Role-Playing     57810000.0\n",
              "Shooter         179960000.0\n",
              "Simulation        9070000.0\n",
              "Sports           87350000.0\n",
              "Name: NA_Sales, dtype: float64"
            ]
          },
          "metadata": {
            "tags": []
          },
          "execution_count": 73
        }
      ]
    },
    {
      "cell_type": "code",
      "metadata": {
        "colab": {
          "base_uri": "https://localhost:8080/",
          "height": 681
        },
        "id": "6dMIc-aj0hvs",
        "outputId": "60996a37-ce32-4bfd-ce3c-0812b269dfcf"
      },
      "source": [
        "# 유럽 지역의 판매량순으로 정렬해서 상위 100개의 data를 불러온 값 입니다.\n",
        "# 장르별 판매량 상위5등 순서는\n",
        "# Sports(1억1053만장) -> Shooter(6천304만장) -> Action(6천205만장) -> Role-Playing(5523만장) -> Racing(4747만장)\n",
        "\n",
        "\n",
        "Genre100_EU=groupby_Genre_EU['EU_Sales'].sum()\n",
        "Genre100_EU.plot.bar(subplots=True,figsize=(10,6));\n",
        "Genre100_EU.rank(ascending=False)"
      ],
      "execution_count": 21,
      "outputs": [
        {
          "output_type": "execute_result",
          "data": {
            "text/plain": [
              "Genre\n",
              "Action           3.0\n",
              "Adventure       10.0\n",
              "Fighting        11.0\n",
              "Misc             7.0\n",
              "Platform         6.0\n",
              "Puzzle           9.0\n",
              "Racing           5.0\n",
              "Role-Playing     4.0\n",
              "Shooter          2.0\n",
              "Simulation       8.0\n",
              "Sports           1.0\n",
              "Name: EU_Sales, dtype: float64"
            ]
          },
          "metadata": {
            "tags": []
          },
          "execution_count": 21
        },
        {
          "output_type": "display_data",
          "data": {
            "image/png": "[encoded data removed]",
            "text/plain": [
              "<Figure size 720x432 with 1 Axes>"
            ]
          },
          "metadata": {
            "tags": [],
            "needs_background": "light"
          }
        }
      ]
    },
    {
      "cell_type": "markdown",
      "metadata": {
        "id": "bG7g-SVVi_0O"
      },
      "source": [
        ""
      ]
    },
    {
      "cell_type": "code",
      "metadata": {
        "colab": {
          "base_uri": "https://localhost:8080/"
        },
        "id": "b_Il0MBf3JEA",
        "outputId": "9fda6df1-f4c5-464e-c9b1-e8e302d1a25d"
      },
      "source": [
        "# Sports(1억1053만장) -> Shooter(6천304만장) -> Action(6천205만장) -> Role-Playing(5523만장) -> Racing(4747만장)\n",
        "\n",
        "Genre100_EU"
      ],
      "execution_count": 75,
      "outputs": [
        {
          "output_type": "execute_result",
          "data": {
            "text/plain": [
              "Genre\n",
              "Action           62050000.0\n",
              "Adventure         2790000.0\n",
              "Fighting          2610000.0\n",
              "Misc             40590000.0\n",
              "Platform         45190000.0\n",
              "Puzzle            7840000.0\n",
              "Racing           47470000.0\n",
              "Role-Playing     55230000.0\n",
              "Shooter          63040000.0\n",
              "Simulation       20940000.0\n",
              "Sports          110530000.0\n",
              "Name: EU_Sales, dtype: float64"
            ]
          },
          "metadata": {
            "tags": []
          },
          "execution_count": 75
        }
      ]
    },
    {
      "cell_type": "code",
      "metadata": {
        "colab": {
          "base_uri": "https://localhost:8080/",
          "height": 664
        },
        "id": "D9I4HmDn0ntS",
        "outputId": "76ae574c-43a8-46a6-d1f8-0fe2f088ce5e"
      },
      "source": [
        "# 일본 지역의 판매량순으로 정렬해서 상위 100개의 data를 불러온 값 입니다.\n",
        "# 장르별 판매량 상위5등 순서는\n",
        "# Role-Playing(1억3038만장) -> Platform(5126만장) -> Sports(2611만장) -> Racing(2273만장) -> Misc(2083만장)\n",
        "\n",
        "\n",
        "Genre100_JP=groupby_Genre_JP['JP_Sales'].sum()\n",
        "Genre100_JP.plot.bar(subplots=True,figsize=(10,6));\n",
        "Genre100_JP.rank(ascending=False)"
      ],
      "execution_count": 76,
      "outputs": [
        {
          "output_type": "execute_result",
          "data": {
            "text/plain": [
              "Genre\n",
              "Action           8.0\n",
              "Adventure       10.0\n",
              "Fighting         9.0\n",
              "Misc             5.0\n",
              "Platform         2.0\n",
              "Puzzle           6.0\n",
              "Racing           4.0\n",
              "Role-Playing     1.0\n",
              "Simulation       7.0\n",
              "Sports           3.0\n",
              "Name: JP_Sales, dtype: float64"
            ]
          },
          "metadata": {
            "tags": []
          },
          "execution_count": 76
        },
        {
          "output_type": "display_data",
          "data": {
            "image/png": "[encoded data removed]",
            "text/plain": [
              "<Figure size 720x432 with 1 Axes>"
            ]
          },
          "metadata": {
            "tags": [],
            "needs_background": "light"
          }
        }
      ]
    },
    {
      "cell_type": "code",
      "metadata": {
        "colab": {
          "base_uri": "https://localhost:8080/"
        },
        "id": "TCtX0oEd3XQI",
        "outputId": "5a2b15a7-3133-49d0-b66e-7684015626fd"
      },
      "source": [
        "# Role-Playing(1억3038만장) -> Platform(5126만장) -> Sports(2611만장) -> Racing(2273만장) -> Misc(2083만장)\n",
        "\n",
        "Genre100_JP"
      ],
      "execution_count": 79,
      "outputs": [
        {
          "output_type": "execute_result",
          "data": {
            "text/plain": [
              "Genre\n",
              "Action           12730000.0\n",
              "Adventure         2690000.0\n",
              "Fighting         12020000.0\n",
              "Misc             20830000.0\n",
              "Platform         51260000.0\n",
              "Puzzle           15040000.0\n",
              "Racing           22730000.0\n",
              "Role-Playing    130380000.0\n",
              "Simulation       13510000.0\n",
              "Sports           26110000.0\n",
              "Name: JP_Sales, dtype: float64"
            ]
          },
          "metadata": {
            "tags": []
          },
          "execution_count": 79
        }
      ]
    },
    {
      "cell_type": "code",
      "metadata": {
        "colab": {
          "base_uri": "https://localhost:8080/",
          "height": 664
        },
        "id": "uOuSl0Gd0tuu",
        "outputId": "3ae73c80-3ee0-4a73-e01b-19e14e9ecff8"
      },
      "source": [
        "# 위의 3개 지역을 제외한 나머지 지역의 판매량순으로 정렬해서 상위 100개의 data를 불러온 값 입니다.\n",
        "# 장르별 판매량 상위5등 순서는\n",
        "# Action(3965만장) -> Sports(3859만장) -> Shooter(2673만장) -> Racing(2252만장) -> Misc(1350만장)\n",
        "\n",
        "Genre100_OT=groupby_Genre_OT['Other_Sales'].sum()\n",
        "Genre100_OT.plot.bar(subplots=True,figsize=(10,6));\n",
        "Genre100_OT.rank(ascending=False)"
      ],
      "execution_count": 82,
      "outputs": [
        {
          "output_type": "execute_result",
          "data": {
            "text/plain": [
              "Genre\n",
              "Action           1.0\n",
              "Fighting         9.0\n",
              "Misc             5.0\n",
              "Platform         7.0\n",
              "Puzzle          10.0\n",
              "Racing           4.0\n",
              "Role-Playing     6.0\n",
              "Shooter          3.0\n",
              "Simulation       8.0\n",
              "Sports           2.0\n",
              "Name: Other_Sales, dtype: float64"
            ]
          },
          "metadata": {
            "tags": []
          },
          "execution_count": 82
        },
        {
          "output_type": "display_data",
          "data": {
            "image/png": "[encoded data removed]",
            "text/plain": [
              "<Figure size 720x432 with 1 Axes>"
            ]
          },
          "metadata": {
            "tags": [],
            "needs_background": "light"
          }
        }
      ]
    },
    {
      "cell_type": "code",
      "metadata": {
        "colab": {
          "base_uri": "https://localhost:8080/"
        },
        "id": "KZlB6ytU3l4X",
        "outputId": "49c135d8-0453-41f3-a29f-2dbd278e5f2b"
      },
      "source": [
        "# Action(3965만장) -> Sports(3859만장) -> Shooter(2673만장) -> Racing(2252만장) -> Misc(1350만장)\n",
        "\n",
        "Genre100_OT"
      ],
      "execution_count": 83,
      "outputs": [
        {
          "output_type": "execute_result",
          "data": {
            "text/plain": [
              "Genre\n",
              "Action          39650000.0\n",
              "Fighting         3520000.0\n",
              "Misc            13500000.0\n",
              "Platform         7910000.0\n",
              "Puzzle           1180000.0\n",
              "Racing          22520000.0\n",
              "Role-Playing    10010000.0\n",
              "Shooter         26730000.0\n",
              "Simulation       3630000.0\n",
              "Sports          38590000.0\n",
              "Name: Other_Sales, dtype: float64"
            ]
          },
          "metadata": {
            "tags": []
          },
          "execution_count": 83
        }
      ]
    },
    {
      "cell_type": "code",
      "metadata": {
        "id": "N-3U__rvg4Jq"
      },
      "source": [
        "# 한 bar plot으로 합쳐 점유율을 알아보도록 하겠습니다.\n",
        "\n",
        "result = pd.concat([Genre100_NA,Genre100_EU,Genre100_JP,Genre100_OT],axis=1).fillna(0)\n",
        "result1 = pd.concat([Genre100_NA,Genre100_JP],axis=1)\n",
        "result2 = pd.concat([Genre100_EU,Genre100_OT],axis=1)\n",
        "#arr0 = Genre100_NA.to_numpy()\n",
        "#arr1 = Genre100_EU.to_numpy()\n",
        "#arr2 = Genre100_JP.to_numpy()\n",
        "#arr3 = Genre100_OT.to_numpy()\n",
        "#arr0,arr1,arr2,arr3"
      ],
      "execution_count": 94,
      "outputs": []
    },
    {
      "cell_type": "code",
      "metadata": {
        "colab": {
          "base_uri": "https://localhost:8080/",
          "height": 394
        },
        "id": "j24oCTroTVm2",
        "outputId": "50724943-637f-4783-bfaf-236428412395"
      },
      "source": [
        "result"
      ],
      "execution_count": 87,
      "outputs": [
        {
          "output_type": "execute_result",
          "data": {
            "text/html": [
              "<div>\n",
              "<style scoped>\n",
              "    .dataframe tbody tr th:only-of-type {\n",
              "        vertical-align: middle;\n",
              "    }\n",
              "\n",
              "    .dataframe tbody tr th {\n",
              "        vertical-align: top;\n",
              "    }\n",
              "\n",
              "    .dataframe thead th {\n",
              "        text-align: right;\n",
              "    }\n",
              "</style>\n",
              "<table border=\"1\" class=\"dataframe\">\n",
              "  <thead>\n",
              "    <tr style=\"text-align: right;\">\n",
              "      <th></th>\n",
              "      <th>NA_Sales</th>\n",
              "      <th>EU_Sales</th>\n",
              "      <th>JP_Sales</th>\n",
              "      <th>Other_Sales</th>\n",
              "    </tr>\n",
              "  </thead>\n",
              "  <tbody>\n",
              "    <tr>\n",
              "      <th>Action</th>\n",
              "      <td>76250000.0</td>\n",
              "      <td>62050000.0</td>\n",
              "      <td>12730000.0</td>\n",
              "      <td>39650000.0</td>\n",
              "    </tr>\n",
              "    <tr>\n",
              "      <th>Adventure</th>\n",
              "      <td>6160000.0</td>\n",
              "      <td>2790000.0</td>\n",
              "      <td>2690000.0</td>\n",
              "      <td>0.0</td>\n",
              "    </tr>\n",
              "    <tr>\n",
              "      <th>Fighting</th>\n",
              "      <td>11160000.0</td>\n",
              "      <td>2610000.0</td>\n",
              "      <td>12020000.0</td>\n",
              "      <td>3520000.0</td>\n",
              "    </tr>\n",
              "    <tr>\n",
              "      <th>Misc</th>\n",
              "      <td>67440000.0</td>\n",
              "      <td>40590000.0</td>\n",
              "      <td>20830000.0</td>\n",
              "      <td>13500000.0</td>\n",
              "    </tr>\n",
              "    <tr>\n",
              "      <th>Platform</th>\n",
              "      <td>154450000.0</td>\n",
              "      <td>45190000.0</td>\n",
              "      <td>51260000.0</td>\n",
              "      <td>7910000.0</td>\n",
              "    </tr>\n",
              "    <tr>\n",
              "      <th>Puzzle</th>\n",
              "      <td>30480000.0</td>\n",
              "      <td>7840000.0</td>\n",
              "      <td>15040000.0</td>\n",
              "      <td>1180000.0</td>\n",
              "    </tr>\n",
              "    <tr>\n",
              "      <th>Racing</th>\n",
              "      <td>54820000.0</td>\n",
              "      <td>47470000.0</td>\n",
              "      <td>22730000.0</td>\n",
              "      <td>22520000.0</td>\n",
              "    </tr>\n",
              "    <tr>\n",
              "      <th>Role-Playing</th>\n",
              "      <td>57810000.0</td>\n",
              "      <td>55230000.0</td>\n",
              "      <td>130380000.0</td>\n",
              "      <td>10010000.0</td>\n",
              "    </tr>\n",
              "    <tr>\n",
              "      <th>Shooter</th>\n",
              "      <td>179960000.0</td>\n",
              "      <td>63040000.0</td>\n",
              "      <td>0.0</td>\n",
              "      <td>26730000.0</td>\n",
              "    </tr>\n",
              "    <tr>\n",
              "      <th>Simulation</th>\n",
              "      <td>9070000.0</td>\n",
              "      <td>20940000.0</td>\n",
              "      <td>13510000.0</td>\n",
              "      <td>3630000.0</td>\n",
              "    </tr>\n",
              "    <tr>\n",
              "      <th>Sports</th>\n",
              "      <td>87350000.0</td>\n",
              "      <td>110530000.0</td>\n",
              "      <td>26110000.0</td>\n",
              "      <td>38590000.0</td>\n",
              "    </tr>\n",
              "  </tbody>\n",
              "</table>\n",
              "</div>"
            ],
            "text/plain": [
              "                 NA_Sales     EU_Sales     JP_Sales  Other_Sales\n",
              "Action         76250000.0   62050000.0   12730000.0   39650000.0\n",
              "Adventure       6160000.0    2790000.0    2690000.0          0.0\n",
              "Fighting       11160000.0    2610000.0   12020000.0    3520000.0\n",
              "Misc           67440000.0   40590000.0   20830000.0   13500000.0\n",
              "Platform      154450000.0   45190000.0   51260000.0    7910000.0\n",
              "Puzzle         30480000.0    7840000.0   15040000.0    1180000.0\n",
              "Racing         54820000.0   47470000.0   22730000.0   22520000.0\n",
              "Role-Playing   57810000.0   55230000.0  130380000.0   10010000.0\n",
              "Shooter       179960000.0   63040000.0          0.0   26730000.0\n",
              "Simulation      9070000.0   20940000.0   13510000.0    3630000.0\n",
              "Sports         87350000.0  110530000.0   26110000.0   38590000.0"
            ]
          },
          "metadata": {
            "tags": []
          },
          "execution_count": 87
        }
      ]
    },
    {
      "cell_type": "code",
      "metadata": {
        "colab": {
          "base_uri": "https://localhost:8080/",
          "height": 545
        },
        "id": "i7rQJUQIj7Nr",
        "outputId": "7760b6c9-a70b-45ab-8e41-bf4d7657a94a"
      },
      "source": [
        "# NA : Shooter(1억7996만장) -> Platform(1억5445만장) -> Sports(8천735만장) -> Action(7천625만장) -> Misc(6천744만장)\n",
        "# EU : Sports(1억1053만장) -> Shooter(6천304만장) -> Action(6천205만장) -> Role-Playing(5523만장) -> Racing(4747만장)\n",
        "\n",
        "# JP : Role-Playing(1억3038만장) -> Platform(5126만장) -> Sports(2611만장) -> Racing(2273만장) -> Misc(2083만장)\n",
        "# OT : Action(3965만장) -> Sports(3859만장) -> Shooter(2673만장) -> Racing(2252만장) -> Misc(1350만장)\n",
        "\n",
        "result.plot.bar(figsize=(12,8));"
      ],
      "execution_count": 95,
      "outputs": [
        {
          "output_type": "display_data",
          "data": {
            "image/png": "[encoded data removed]",
            "text/plain": [
              "<Figure size 864x576 with 1 Axes>"
            ]
          },
          "metadata": {
            "tags": [],
            "needs_background": "light"
          }
        }
      ]
    },
    {
      "cell_type": "code",
      "metadata": {
        "colab": {
          "base_uri": "https://localhost:8080/",
          "height": 620
        },
        "id": "3qX0-vstcRQE",
        "outputId": "8000e33f-13e2-4c1a-d8ec-bc55cadf9dfe"
      },
      "source": [
        "plt.figure(figsize=(12, 10)) \n",
        "sns.lineplot(data = result,palette=\"tab10\", linewidth=2.5)"
      ],
      "execution_count": 96,
      "outputs": [
        {
          "output_type": "execute_result",
          "data": {
            "text/plain": [
              "<matplotlib.axes._subplots.AxesSubplot at 0x7f46c3c40610>"
            ]
          },
          "metadata": {
            "tags": []
          },
          "execution_count": 96
        },
        {
          "output_type": "display_data",
          "data": {
            "image/png": "[encoded data removed]",
            "text/plain": [
              "<Figure size 864x720 with 1 Axes>"
            ]
          },
          "metadata": {
            "tags": [],
            "needs_background": "light"
          }
        }
      ]
    },
    {
      "cell_type": "code",
      "metadata": {
        "colab": {
          "base_uri": "https://localhost:8080/",
          "height": 545
        },
        "id": "cxRbiGXVq3Gn",
        "outputId": "9b1b7eaf-4709-415e-d2f0-ffee111043ee"
      },
      "source": [
        "# 북미, 일본의 상관관계\n",
        "# 북미와 일본은 판매량 순으로 보았을 때 판매량 top5중 3개의 판매율이 비슷하게 높게 확인 되므로 비슷한 경향이 있다.\n",
        "\n",
        "result1.plot.bar(figsize=(12,8));"
      ],
      "execution_count": 97,
      "outputs": [
        {
          "output_type": "display_data",
          "data": {
            "image/png": "[encoded data removed]",
            "text/plain": [
              "<Figure size 864x576 with 1 Axes>"
            ]
          },
          "metadata": {
            "tags": [],
            "needs_background": "light"
          }
        }
      ]
    },
    {
      "cell_type": "code",
      "metadata": {
        "colab": {
          "base_uri": "https://localhost:8080/",
          "height": 674
        },
        "id": "1Usocmo9cuQ7",
        "outputId": "e7e198d8-de20-4bdf-9481-084debca933a"
      },
      "source": [
        "plt.figure(figsize=(11, 11)) \n",
        "sns.lineplot(data = result1,palette=\"tab10\", linewidth=2)"
      ],
      "execution_count": 98,
      "outputs": [
        {
          "output_type": "execute_result",
          "data": {
            "text/plain": [
              "<matplotlib.axes._subplots.AxesSubplot at 0x7f46c4166250>"
            ]
          },
          "metadata": {
            "tags": []
          },
          "execution_count": 98
        },
        {
          "output_type": "display_data",
          "data": {
            "image/png": "[encoded data removed]",
            "text/plain": [
              "<Figure size 792x792 with 1 Axes>"
            ]
          },
          "metadata": {
            "tags": [],
            "needs_background": "light"
          }
        }
      ]
    },
    {
      "cell_type": "code",
      "metadata": {
        "colab": {
          "base_uri": "https://localhost:8080/",
          "height": 545
        },
        "id": "ita2lJrIq2xT",
        "outputId": "885b3a4c-01bd-4bea-f0af-d04e95fd332d"
      },
      "source": [
        "# 유럽, other 지역의 상관관계(%)\n",
        "# 유럽과 이외지역은 판매량 순으로 보았을 때 판매량 top5중 3개의 판매율이 비슷하게 높게 확인 되므로 비슷한 경향이 있다.\n",
        "\n",
        "result2.plot.bar(figsize=(12,8));"
      ],
      "execution_count": 99,
      "outputs": [
        {
          "output_type": "display_data",
          "data": {
            "image/png": "[encoded data removed]",
            "text/plain": [
              "<Figure size 864x576 with 1 Axes>"
            ]
          },
          "metadata": {
            "tags": [],
            "needs_background": "light"
          }
        }
      ]
    },
    {
      "cell_type": "code",
      "metadata": {
        "colab": {
          "base_uri": "https://localhost:8080/",
          "height": 674
        },
        "id": "t5Thk22gddib",
        "outputId": "d0220f53-39ef-44c3-f4a7-69c042925be4"
      },
      "source": [
        "plt.figure(figsize=(11, 11)) \n",
        "sns.lineplot(data = result2,palette=\"tab10\", linewidth=2)"
      ],
      "execution_count": 100,
      "outputs": [
        {
          "output_type": "execute_result",
          "data": {
            "text/plain": [
              "<matplotlib.axes._subplots.AxesSubplot at 0x7f46c39fdb50>"
            ]
          },
          "metadata": {
            "tags": []
          },
          "execution_count": 100
        },
        {
          "output_type": "display_data",
          "data": {
            "image/png": "[encoded data removed]",
            "text/plain": [
              "<Figure size 792x792 with 1 Axes>"
            ]
          },
          "metadata": {
            "tags": [],
            "needs_background": "light"
          }
        }
      ]
    },
    {
      "cell_type": "markdown",
      "metadata": {
        "id": "E9yiY5bquUSg"
      },
      "source": [
        "# 연도별 게임의 트렌드를 알아보기 위해 다음과 같은 과정을 거쳤습니다.\n"
      ]
    },
    {
      "cell_type": "markdown",
      "metadata": {
        "id": "s5Q4fxCKIveY"
      },
      "source": [
        "1. DATA를 'Year'와 'Genre'로 정렬함. \n",
        "\n",
        "2. 연도와 장르의 상관관계를 확인"
      ]
    },
    {
      "cell_type": "code",
      "metadata": {
        "id": "VfxKZOfaubV2"
      },
      "source": [
        "df1['Total_Sales']=df1['NA_Sales']+df1['EU_Sales']+df1['JP_Sales']+df1['Other_Sales']"
      ],
      "execution_count": 16,
      "outputs": []
    },
    {
      "cell_type": "code",
      "metadata": {
        "colab": {
          "base_uri": "https://localhost:8080/",
          "height": 424
        },
        "id": "coyl-DYwur5w",
        "outputId": "3deee05b-47ea-4f84-cab5-3363cfd88f36"
      },
      "source": [
        "df2=df1.sort_values(by=['Year'], axis=0, ascending = True).reset_index(drop=True)\n",
        "df2['Total_Sales'] = df2['NA_Sales']+df2['EU_Sales']+df2['JP_Sales']+df2['Other_Sales']\n",
        "df2"
      ],
      "execution_count": 17,
      "outputs": [
        {
          "output_type": "execute_result",
          "data": {
            "text/html": [
              "<div>\n",
              "<style scoped>\n",
              "    .dataframe tbody tr th:only-of-type {\n",
              "        vertical-align: middle;\n",
              "    }\n",
              "\n",
              "    .dataframe tbody tr th {\n",
              "        vertical-align: top;\n",
              "    }\n",
              "\n",
              "    .dataframe thead th {\n",
              "        text-align: right;\n",
              "    }\n",
              "</style>\n",
              "<table border=\"1\" class=\"dataframe\">\n",
              "  <thead>\n",
              "    <tr style=\"text-align: right;\">\n",
              "      <th></th>\n",
              "      <th>Name</th>\n",
              "      <th>Platform</th>\n",
              "      <th>Year</th>\n",
              "      <th>Genre</th>\n",
              "      <th>Publisher</th>\n",
              "      <th>NA_Sales</th>\n",
              "      <th>EU_Sales</th>\n",
              "      <th>JP_Sales</th>\n",
              "      <th>Other_Sales</th>\n",
              "      <th>Total_Sales</th>\n",
              "    </tr>\n",
              "  </thead>\n",
              "  <tbody>\n",
              "    <tr>\n",
              "      <th>0</th>\n",
              "      <td>Boxing</td>\n",
              "      <td>A2600</td>\n",
              "      <td>1980.0</td>\n",
              "      <td>Fighting</td>\n",
              "      <td>Activision</td>\n",
              "      <td>720000.0</td>\n",
              "      <td>40000.0</td>\n",
              "      <td>0.0</td>\n",
              "      <td>10000.0</td>\n",
              "      <td>770000.0</td>\n",
              "    </tr>\n",
              "    <tr>\n",
              "      <th>1</th>\n",
              "      <td>Asteroids</td>\n",
              "      <td>A2600</td>\n",
              "      <td>1980.0</td>\n",
              "      <td>Shooter</td>\n",
              "      <td>Atari</td>\n",
              "      <td>4000000.0</td>\n",
              "      <td>260000.0</td>\n",
              "      <td>0.0</td>\n",
              "      <td>50000.0</td>\n",
              "      <td>4310000.0</td>\n",
              "    </tr>\n",
              "    <tr>\n",
              "      <th>2</th>\n",
              "      <td>Missile Command</td>\n",
              "      <td>A2600</td>\n",
              "      <td>1980.0</td>\n",
              "      <td>Shooter</td>\n",
              "      <td>Atari</td>\n",
              "      <td>2560000.0</td>\n",
              "      <td>170000.0</td>\n",
              "      <td>0.0</td>\n",
              "      <td>30000.0</td>\n",
              "      <td>2760000.0</td>\n",
              "    </tr>\n",
              "    <tr>\n",
              "      <th>3</th>\n",
              "      <td>Bridge</td>\n",
              "      <td>A2600</td>\n",
              "      <td>1980.0</td>\n",
              "      <td>Misc</td>\n",
              "      <td>Activision</td>\n",
              "      <td>250000.0</td>\n",
              "      <td>20000.0</td>\n",
              "      <td>0.0</td>\n",
              "      <td>0.0</td>\n",
              "      <td>270000.0</td>\n",
              "    </tr>\n",
              "    <tr>\n",
              "      <th>4</th>\n",
              "      <td>Freeway</td>\n",
              "      <td>A2600</td>\n",
              "      <td>1980.0</td>\n",
              "      <td>Action</td>\n",
              "      <td>Activision</td>\n",
              "      <td>320000.0</td>\n",
              "      <td>20000.0</td>\n",
              "      <td>0.0</td>\n",
              "      <td>0.0</td>\n",
              "      <td>340000.0</td>\n",
              "    </tr>\n",
              "    <tr>\n",
              "      <th>...</th>\n",
              "      <td>...</td>\n",
              "      <td>...</td>\n",
              "      <td>...</td>\n",
              "      <td>...</td>\n",
              "      <td>...</td>\n",
              "      <td>...</td>\n",
              "      <td>...</td>\n",
              "      <td>...</td>\n",
              "      <td>...</td>\n",
              "      <td>...</td>\n",
              "    </tr>\n",
              "    <tr>\n",
              "      <th>16236</th>\n",
              "      <td>Jikkyou Powerful Pro Baseball 2016</td>\n",
              "      <td>PS3</td>\n",
              "      <td>2016.0</td>\n",
              "      <td>Sports</td>\n",
              "      <td>Konami Digital Entertainment</td>\n",
              "      <td>0.0</td>\n",
              "      <td>0.0</td>\n",
              "      <td>110000.0</td>\n",
              "      <td>0.0</td>\n",
              "      <td>110000.0</td>\n",
              "    </tr>\n",
              "    <tr>\n",
              "      <th>16237</th>\n",
              "      <td>Phantasy Star Online 2 Episode 4: Deluxe Package</td>\n",
              "      <td>PS4</td>\n",
              "      <td>2017.0</td>\n",
              "      <td>Role-Playing</td>\n",
              "      <td>Sega</td>\n",
              "      <td>0.0</td>\n",
              "      <td>0.0</td>\n",
              "      <td>30000.0</td>\n",
              "      <td>0.0</td>\n",
              "      <td>30000.0</td>\n",
              "    </tr>\n",
              "    <tr>\n",
              "      <th>16238</th>\n",
              "      <td>Brothers Conflict: Precious Baby</td>\n",
              "      <td>PSV</td>\n",
              "      <td>2017.0</td>\n",
              "      <td>Action</td>\n",
              "      <td>Idea Factory</td>\n",
              "      <td>0.0</td>\n",
              "      <td>0.0</td>\n",
              "      <td>10000.0</td>\n",
              "      <td>0.0</td>\n",
              "      <td>10000.0</td>\n",
              "    </tr>\n",
              "    <tr>\n",
              "      <th>16239</th>\n",
              "      <td>Phantasy Star Online 2 Episode 4: Deluxe Package</td>\n",
              "      <td>PSV</td>\n",
              "      <td>2017.0</td>\n",
              "      <td>Role-Playing</td>\n",
              "      <td>Sega</td>\n",
              "      <td>0.0</td>\n",
              "      <td>0.0</td>\n",
              "      <td>10000.0</td>\n",
              "      <td>0.0</td>\n",
              "      <td>10000.0</td>\n",
              "    </tr>\n",
              "    <tr>\n",
              "      <th>16240</th>\n",
              "      <td>Imagine: Makeup Artist</td>\n",
              "      <td>DS</td>\n",
              "      <td>2020.0</td>\n",
              "      <td>Simulation</td>\n",
              "      <td>Ubisoft</td>\n",
              "      <td>270000.0</td>\n",
              "      <td>0.0</td>\n",
              "      <td>0.0</td>\n",
              "      <td>20000.0</td>\n",
              "      <td>290000.0</td>\n",
              "    </tr>\n",
              "  </tbody>\n",
              "</table>\n",
              "<p>16241 rows × 10 columns</p>\n",
              "</div>"
            ],
            "text/plain": [
              "                                                   Name  ... Total_Sales\n",
              "0                                                Boxing  ...    770000.0\n",
              "1                                             Asteroids  ...   4310000.0\n",
              "2                                       Missile Command  ...   2760000.0\n",
              "3                                                Bridge  ...    270000.0\n",
              "4                                               Freeway  ...    340000.0\n",
              "...                                                 ...  ...         ...\n",
              "16236                Jikkyou Powerful Pro Baseball 2016  ...    110000.0\n",
              "16237  Phantasy Star Online 2 Episode 4: Deluxe Package  ...     30000.0\n",
              "16238                  Brothers Conflict: Precious Baby  ...     10000.0\n",
              "16239  Phantasy Star Online 2 Episode 4: Deluxe Package  ...     10000.0\n",
              "16240                            Imagine: Makeup Artist  ...    290000.0\n",
              "\n",
              "[16241 rows x 10 columns]"
            ]
          },
          "metadata": {
            "tags": []
          },
          "execution_count": 17
        }
      ]
    },
    {
      "cell_type": "code",
      "metadata": {
        "id": "ePst8_-3y70V"
      },
      "source": [
        "#year1980 = df2.query(\"Year == 1980\")\n",
        "#year1980['NA_Sales'].idxmax(axis=0)\n",
        "# display(year1980)\n",
        "#year1980.iloc[1:2]\n",
        "\n",
        "\n",
        "#year1980max=year1980max.loc[['1'],]\n",
        "\n",
        "\n",
        "\n",
        "#groupby_Genre_NA = df1_Genre_NA.groupby('Genre')"
      ],
      "execution_count": null,
      "outputs": []
    },
    {
      "cell_type": "code",
      "metadata": {
        "colab": {
          "base_uri": "https://localhost:8080/",
          "height": 424
        },
        "id": "F-ljPLA3f-RB",
        "outputId": "09bad020-0f86-430e-8f28-56706b6aca62"
      },
      "source": [
        "id0=pd.DataFrame(df2.groupby(['Year', 'Genre'])['Publisher'].count()).reset_index()\n",
        "id0.columns = ['Year','Genre','Count_value']\n",
        "id0\n",
        "\n",
        "#year_genre\n",
        "#df.loc[df.groupby(['target'])['sepal length (cm)'].idxmax()]"
      ],
      "execution_count": 18,
      "outputs": [
        {
          "output_type": "execute_result",
          "data": {
            "text/html": [
              "<div>\n",
              "<style scoped>\n",
              "    .dataframe tbody tr th:only-of-type {\n",
              "        vertical-align: middle;\n",
              "    }\n",
              "\n",
              "    .dataframe tbody tr th {\n",
              "        vertical-align: top;\n",
              "    }\n",
              "\n",
              "    .dataframe thead th {\n",
              "        text-align: right;\n",
              "    }\n",
              "</style>\n",
              "<table border=\"1\" class=\"dataframe\">\n",
              "  <thead>\n",
              "    <tr style=\"text-align: right;\">\n",
              "      <th></th>\n",
              "      <th>Year</th>\n",
              "      <th>Genre</th>\n",
              "      <th>Count_value</th>\n",
              "    </tr>\n",
              "  </thead>\n",
              "  <tbody>\n",
              "    <tr>\n",
              "      <th>0</th>\n",
              "      <td>1980.0</td>\n",
              "      <td>Action</td>\n",
              "      <td>1</td>\n",
              "    </tr>\n",
              "    <tr>\n",
              "      <th>1</th>\n",
              "      <td>1980.0</td>\n",
              "      <td>Fighting</td>\n",
              "      <td>1</td>\n",
              "    </tr>\n",
              "    <tr>\n",
              "      <th>2</th>\n",
              "      <td>1980.0</td>\n",
              "      <td>Misc</td>\n",
              "      <td>4</td>\n",
              "    </tr>\n",
              "    <tr>\n",
              "      <th>3</th>\n",
              "      <td>1980.0</td>\n",
              "      <td>Shooter</td>\n",
              "      <td>2</td>\n",
              "    </tr>\n",
              "    <tr>\n",
              "      <th>4</th>\n",
              "      <td>1981.0</td>\n",
              "      <td>Action</td>\n",
              "      <td>25</td>\n",
              "    </tr>\n",
              "    <tr>\n",
              "      <th>...</th>\n",
              "      <td>...</td>\n",
              "      <td>...</td>\n",
              "      <td>...</td>\n",
              "    </tr>\n",
              "    <tr>\n",
              "      <th>383</th>\n",
              "      <td>2016.0</td>\n",
              "      <td>Sports</td>\n",
              "      <td>38</td>\n",
              "    </tr>\n",
              "    <tr>\n",
              "      <th>384</th>\n",
              "      <td>2016.0</td>\n",
              "      <td>Strategy</td>\n",
              "      <td>10</td>\n",
              "    </tr>\n",
              "    <tr>\n",
              "      <th>385</th>\n",
              "      <td>2017.0</td>\n",
              "      <td>Action</td>\n",
              "      <td>1</td>\n",
              "    </tr>\n",
              "    <tr>\n",
              "      <th>386</th>\n",
              "      <td>2017.0</td>\n",
              "      <td>Role-Playing</td>\n",
              "      <td>2</td>\n",
              "    </tr>\n",
              "    <tr>\n",
              "      <th>387</th>\n",
              "      <td>2020.0</td>\n",
              "      <td>Simulation</td>\n",
              "      <td>1</td>\n",
              "    </tr>\n",
              "  </tbody>\n",
              "</table>\n",
              "<p>388 rows × 3 columns</p>\n",
              "</div>"
            ],
            "text/plain": [
              "       Year         Genre  Count_value\n",
              "0    1980.0        Action            1\n",
              "1    1980.0      Fighting            1\n",
              "2    1980.0          Misc            4\n",
              "3    1980.0       Shooter            2\n",
              "4    1981.0        Action           25\n",
              "..      ...           ...          ...\n",
              "383  2016.0        Sports           38\n",
              "384  2016.0      Strategy           10\n",
              "385  2017.0        Action            1\n",
              "386  2017.0  Role-Playing            2\n",
              "387  2020.0    Simulation            1\n",
              "\n",
              "[388 rows x 3 columns]"
            ]
          },
          "metadata": {
            "tags": []
          },
          "execution_count": 18
        }
      ]
    },
    {
      "cell_type": "code",
      "metadata": {
        "colab": {
          "base_uri": "https://localhost:8080/",
          "height": 705
        },
        "id": "Gelz63dOH7Sm",
        "outputId": "671213df-13fe-4945-db76-e0501aa1cd99"
      },
      "source": [
        "import seaborn as sns\n",
        "\n",
        "fig1=sns.relplot(data = id0, x='Year', y='Count_value', hue = 'Genre')\n",
        "fig1.fig.set_size_inches(15,10)\n",
        "\n",
        "# 연도가 최근으로 오면서 장르수가 늘어나는 것을 볼 수 있고 인기있는 장르에대해서는 확연히 늘어나는 것을 확인 할 수 있습니다."
      ],
      "execution_count": 19,
      "outputs": [
        {
          "output_type": "display_data",
          "data": {
            "image/png": "[encoded data removed]",
            "text/plain": [
              "<Figure size 1080x720 with 1 Axes>"
            ]
          },
          "metadata": {
            "tags": [],
            "needs_background": "light"
          }
        }
      ]
    },
    {
      "cell_type": "markdown",
      "metadata": {
        "id": "Xpej8gC0JkiP"
      },
      "source": [
        "#시각화!"
      ]
    },
    {
      "cell_type": "code",
      "metadata": {
        "colab": {
          "base_uri": "https://localhost:8080/",
          "height": 424
        },
        "id": "yhgNZ9EYFj9B",
        "outputId": "75c40dac-b6da-49cd-9fff-ad975006333a"
      },
      "source": [
        "df_Genre_sum1 = df1[['Year', 'Genre', 'Total_Sales']]\n",
        "df_Genre_sum_count = df_Genre_sum1.groupby(['Year', 'Genre']).sum().reset_index()\n",
        "df_Genre_sum_count['Count'] = df1[['Year', 'Genre', 'Name']].groupby(['Year','Genre']).count().reset_index()['Name']\n",
        "df_Genre_sum_count"
      ],
      "execution_count": 45,
      "outputs": [
        {
          "output_type": "execute_result",
          "data": {
            "text/html": [
              "<div>\n",
              "<style scoped>\n",
              "    .dataframe tbody tr th:only-of-type {\n",
              "        vertical-align: middle;\n",
              "    }\n",
              "\n",
              "    .dataframe tbody tr th {\n",
              "        vertical-align: top;\n",
              "    }\n",
              "\n",
              "    .dataframe thead th {\n",
              "        text-align: right;\n",
              "    }\n",
              "</style>\n",
              "<table border=\"1\" class=\"dataframe\">\n",
              "  <thead>\n",
              "    <tr style=\"text-align: right;\">\n",
              "      <th></th>\n",
              "      <th>Year</th>\n",
              "      <th>Genre</th>\n",
              "      <th>Total_Sales</th>\n",
              "      <th>Count</th>\n",
              "    </tr>\n",
              "  </thead>\n",
              "  <tbody>\n",
              "    <tr>\n",
              "      <th>0</th>\n",
              "      <td>1980.0</td>\n",
              "      <td>Action</td>\n",
              "      <td>340000.0</td>\n",
              "      <td>1</td>\n",
              "    </tr>\n",
              "    <tr>\n",
              "      <th>1</th>\n",
              "      <td>1980.0</td>\n",
              "      <td>Fighting</td>\n",
              "      <td>770000.0</td>\n",
              "      <td>1</td>\n",
              "    </tr>\n",
              "    <tr>\n",
              "      <th>2</th>\n",
              "      <td>1980.0</td>\n",
              "      <td>Misc</td>\n",
              "      <td>2700000.0</td>\n",
              "      <td>4</td>\n",
              "    </tr>\n",
              "    <tr>\n",
              "      <th>3</th>\n",
              "      <td>1980.0</td>\n",
              "      <td>Shooter</td>\n",
              "      <td>7070000.0</td>\n",
              "      <td>2</td>\n",
              "    </tr>\n",
              "    <tr>\n",
              "      <th>4</th>\n",
              "      <td>1981.0</td>\n",
              "      <td>Action</td>\n",
              "      <td>14680000.0</td>\n",
              "      <td>25</td>\n",
              "    </tr>\n",
              "    <tr>\n",
              "      <th>...</th>\n",
              "      <td>...</td>\n",
              "      <td>...</td>\n",
              "      <td>...</td>\n",
              "      <td>...</td>\n",
              "    </tr>\n",
              "    <tr>\n",
              "      <th>383</th>\n",
              "      <td>2016.0</td>\n",
              "      <td>Sports</td>\n",
              "      <td>14630000.0</td>\n",
              "      <td>38</td>\n",
              "    </tr>\n",
              "    <tr>\n",
              "      <th>384</th>\n",
              "      <td>2016.0</td>\n",
              "      <td>Strategy</td>\n",
              "      <td>520000.0</td>\n",
              "      <td>10</td>\n",
              "    </tr>\n",
              "    <tr>\n",
              "      <th>385</th>\n",
              "      <td>2017.0</td>\n",
              "      <td>Action</td>\n",
              "      <td>10000.0</td>\n",
              "      <td>1</td>\n",
              "    </tr>\n",
              "    <tr>\n",
              "      <th>386</th>\n",
              "      <td>2017.0</td>\n",
              "      <td>Role-Playing</td>\n",
              "      <td>40000.0</td>\n",
              "      <td>2</td>\n",
              "    </tr>\n",
              "    <tr>\n",
              "      <th>387</th>\n",
              "      <td>2020.0</td>\n",
              "      <td>Simulation</td>\n",
              "      <td>290000.0</td>\n",
              "      <td>1</td>\n",
              "    </tr>\n",
              "  </tbody>\n",
              "</table>\n",
              "<p>388 rows × 4 columns</p>\n",
              "</div>"
            ],
            "text/plain": [
              "       Year         Genre  Total_Sales  Count\n",
              "0    1980.0        Action     340000.0      1\n",
              "1    1980.0      Fighting     770000.0      1\n",
              "2    1980.0          Misc    2700000.0      4\n",
              "3    1980.0       Shooter    7070000.0      2\n",
              "4    1981.0        Action   14680000.0     25\n",
              "..      ...           ...          ...    ...\n",
              "383  2016.0        Sports   14630000.0     38\n",
              "384  2016.0      Strategy     520000.0     10\n",
              "385  2017.0        Action      10000.0      1\n",
              "386  2017.0  Role-Playing      40000.0      2\n",
              "387  2020.0    Simulation     290000.0      1\n",
              "\n",
              "[388 rows x 4 columns]"
            ]
          },
          "metadata": {
            "tags": []
          },
          "execution_count": 45
        }
      ]
    },
    {
      "cell_type": "code",
      "metadata": {
        "colab": {
          "base_uri": "https://localhost:8080/",
          "height": 652
        },
        "id": "ZP8QZPZlGmMY",
        "outputId": "affbb931-aa81-4648-e442-5ae54ea53812"
      },
      "source": [
        "sns.lmplot(x=\"Count\", y=\"Total_Sales\", col=\"Genre\", hue=\"Year\", data=df_Genre_sum_count,\n",
        "           col_wrap=6, ci=20, palette=\"muted\", height=2,\n",
        "           scatter_kws={\"s\": 25, \"alpha\": 0.5})\n",
        "\n",
        "# 장르 수 와 판매량은 양의 상관관계가 있는 것을 볼 수 있습니다.\n",
        "# 특히 action, shooter, Sports 에서 두드러지게 나타납니다\n"
      ],
      "execution_count": 46,
      "outputs": [
        {
          "output_type": "execute_result",
          "data": {
            "text/plain": [
              "<seaborn.axisgrid.FacetGrid at 0x7f46c5170a10>"
            ]
          },
          "metadata": {
            "tags": []
          },
          "execution_count": 46
        },
        {
          "output_type": "display_data",
          "data": {
            "image/png": "[encoded data removed]",
            "text/plain": [
              "<Figure size 935x288 with 12 Axes>"
            ]
          },
          "metadata": {
            "tags": [],
            "needs_background": "light"
          }
        }
      ]
    },
    {
      "cell_type": "code",
      "metadata": {
        "id": "9A24C7V0KeMY"
      },
      "source": [
        "df11_Genre_sum_count=df_Genre_sum_count.drop(columns='Year')"
      ],
      "execution_count": 47,
      "outputs": []
    },
    {
      "cell_type": "code",
      "metadata": {
        "colab": {
          "base_uri": "https://localhost:8080/",
          "height": 112
        },
        "id": "n6PdcORsIz26",
        "outputId": "685b4f96-5cc7-4b76-917a-b079fe4b9d98"
      },
      "source": [
        "df11_Genre_sum_count.corr()"
      ],
      "execution_count": 48,
      "outputs": [
        {
          "output_type": "execute_result",
          "data": {
            "text/html": [
              "<div>\n",
              "<style scoped>\n",
              "    .dataframe tbody tr th:only-of-type {\n",
              "        vertical-align: middle;\n",
              "    }\n",
              "\n",
              "    .dataframe tbody tr th {\n",
              "        vertical-align: top;\n",
              "    }\n",
              "\n",
              "    .dataframe thead th {\n",
              "        text-align: right;\n",
              "    }\n",
              "</style>\n",
              "<table border=\"1\" class=\"dataframe\">\n",
              "  <thead>\n",
              "    <tr style=\"text-align: right;\">\n",
              "      <th></th>\n",
              "      <th>Total_Sales</th>\n",
              "      <th>Count</th>\n",
              "    </tr>\n",
              "  </thead>\n",
              "  <tbody>\n",
              "    <tr>\n",
              "      <th>Total_Sales</th>\n",
              "      <td>1.000000</td>\n",
              "      <td>0.860542</td>\n",
              "    </tr>\n",
              "    <tr>\n",
              "      <th>Count</th>\n",
              "      <td>0.860542</td>\n",
              "      <td>1.000000</td>\n",
              "    </tr>\n",
              "  </tbody>\n",
              "</table>\n",
              "</div>"
            ],
            "text/plain": [
              "             Total_Sales     Count\n",
              "Total_Sales     1.000000  0.860542\n",
              "Count           0.860542  1.000000"
            ]
          },
          "metadata": {
            "tags": []
          },
          "execution_count": 48
        }
      ]
    },
    {
      "cell_type": "code",
      "metadata": {
        "colab": {
          "base_uri": "https://localhost:8080/",
          "height": 458
        },
        "id": "jRLf0u_yJpmB",
        "outputId": "a2ce26f6-5d26-4725-f4da-b5cf0e49a8f7"
      },
      "source": [
        "df1['Total_Sales']=df1['NA_Sales']+df1['EU_Sales']+df1['JP_Sales']+df1['Other_Sales']\n",
        "df1"
      ],
      "execution_count": 49,
      "outputs": [
        {
          "output_type": "execute_result",
          "data": {
            "text/html": [
              "<div>\n",
              "<style scoped>\n",
              "    .dataframe tbody tr th:only-of-type {\n",
              "        vertical-align: middle;\n",
              "    }\n",
              "\n",
              "    .dataframe tbody tr th {\n",
              "        vertical-align: top;\n",
              "    }\n",
              "\n",
              "    .dataframe thead th {\n",
              "        text-align: right;\n",
              "    }\n",
              "</style>\n",
              "<table border=\"1\" class=\"dataframe\">\n",
              "  <thead>\n",
              "    <tr style=\"text-align: right;\">\n",
              "      <th></th>\n",
              "      <th>Name</th>\n",
              "      <th>Platform</th>\n",
              "      <th>Year</th>\n",
              "      <th>Genre</th>\n",
              "      <th>Publisher</th>\n",
              "      <th>NA_Sales</th>\n",
              "      <th>EU_Sales</th>\n",
              "      <th>JP_Sales</th>\n",
              "      <th>Other_Sales</th>\n",
              "      <th>Total_Sales</th>\n",
              "    </tr>\n",
              "  </thead>\n",
              "  <tbody>\n",
              "    <tr>\n",
              "      <th>0</th>\n",
              "      <td>Candace Kane's Candy Factory</td>\n",
              "      <td>DS</td>\n",
              "      <td>2008.0</td>\n",
              "      <td>Action</td>\n",
              "      <td>Destineer</td>\n",
              "      <td>40000.0</td>\n",
              "      <td>0.0</td>\n",
              "      <td>0.0</td>\n",
              "      <td>0.0</td>\n",
              "      <td>40000.0</td>\n",
              "    </tr>\n",
              "    <tr>\n",
              "      <th>1</th>\n",
              "      <td>The Munchables</td>\n",
              "      <td>Wii</td>\n",
              "      <td>2009.0</td>\n",
              "      <td>Action</td>\n",
              "      <td>Namco Bandai Games</td>\n",
              "      <td>170000.0</td>\n",
              "      <td>0.0</td>\n",
              "      <td>0.0</td>\n",
              "      <td>10000.0</td>\n",
              "      <td>180000.0</td>\n",
              "    </tr>\n",
              "    <tr>\n",
              "      <th>2</th>\n",
              "      <td>Otome wa Oanesama Boku ni Koi Shiteru Portable</td>\n",
              "      <td>PSP</td>\n",
              "      <td>2010.0</td>\n",
              "      <td>Adventure</td>\n",
              "      <td>Alchemist</td>\n",
              "      <td>0.0</td>\n",
              "      <td>0.0</td>\n",
              "      <td>20000.0</td>\n",
              "      <td>0.0</td>\n",
              "      <td>20000.0</td>\n",
              "    </tr>\n",
              "    <tr>\n",
              "      <th>3</th>\n",
              "      <td>Deal or No Deal: Special Edition</td>\n",
              "      <td>DS</td>\n",
              "      <td>2010.0</td>\n",
              "      <td>Misc</td>\n",
              "      <td>Zoo Games</td>\n",
              "      <td>40000.0</td>\n",
              "      <td>0.0</td>\n",
              "      <td>0.0</td>\n",
              "      <td>0.0</td>\n",
              "      <td>40000.0</td>\n",
              "    </tr>\n",
              "    <tr>\n",
              "      <th>4</th>\n",
              "      <td>Ben 10 Ultimate Alien: Cosmic Destruction</td>\n",
              "      <td>PS3</td>\n",
              "      <td>2010.0</td>\n",
              "      <td>Platform</td>\n",
              "      <td>D3Publisher</td>\n",
              "      <td>120000.0</td>\n",
              "      <td>90000.0</td>\n",
              "      <td>0.0</td>\n",
              "      <td>40000.0</td>\n",
              "      <td>250000.0</td>\n",
              "    </tr>\n",
              "    <tr>\n",
              "      <th>...</th>\n",
              "      <td>...</td>\n",
              "      <td>...</td>\n",
              "      <td>...</td>\n",
              "      <td>...</td>\n",
              "      <td>...</td>\n",
              "      <td>...</td>\n",
              "      <td>...</td>\n",
              "      <td>...</td>\n",
              "      <td>...</td>\n",
              "      <td>...</td>\n",
              "    </tr>\n",
              "    <tr>\n",
              "      <th>16593</th>\n",
              "      <td>Ice Age 2: The Meltdown</td>\n",
              "      <td>GC</td>\n",
              "      <td>2006.0</td>\n",
              "      <td>Platform</td>\n",
              "      <td>Vivendi Games</td>\n",
              "      <td>150000.0</td>\n",
              "      <td>40000.0</td>\n",
              "      <td>0.0</td>\n",
              "      <td>10000.0</td>\n",
              "      <td>200000.0</td>\n",
              "    </tr>\n",
              "    <tr>\n",
              "      <th>16594</th>\n",
              "      <td>Rainbow Islands: Revolution</td>\n",
              "      <td>PSP</td>\n",
              "      <td>2005.0</td>\n",
              "      <td>Action</td>\n",
              "      <td>Rising Star Games</td>\n",
              "      <td>10000.0</td>\n",
              "      <td>0.0</td>\n",
              "      <td>0.0</td>\n",
              "      <td>0.0</td>\n",
              "      <td>10000.0</td>\n",
              "    </tr>\n",
              "    <tr>\n",
              "      <th>16595</th>\n",
              "      <td>NBA 2K16</td>\n",
              "      <td>PS3</td>\n",
              "      <td>2015.0</td>\n",
              "      <td>Sports</td>\n",
              "      <td>Take-Two Interactive</td>\n",
              "      <td>440000.0</td>\n",
              "      <td>190000.0</td>\n",
              "      <td>30000.0</td>\n",
              "      <td>130000.0</td>\n",
              "      <td>790000.0</td>\n",
              "    </tr>\n",
              "    <tr>\n",
              "      <th>16596</th>\n",
              "      <td>Toukiden: The Age of Demons</td>\n",
              "      <td>PSV</td>\n",
              "      <td>2013.0</td>\n",
              "      <td>Action</td>\n",
              "      <td>Tecmo Koei</td>\n",
              "      <td>50000.0</td>\n",
              "      <td>50000.0</td>\n",
              "      <td>250000.0</td>\n",
              "      <td>30000.0</td>\n",
              "      <td>380000.0</td>\n",
              "    </tr>\n",
              "    <tr>\n",
              "      <th>16597</th>\n",
              "      <td>The King of Fighters '95</td>\n",
              "      <td>PS</td>\n",
              "      <td>1996.0</td>\n",
              "      <td>Fighting</td>\n",
              "      <td>Sony Computer Entertainment</td>\n",
              "      <td>0.0</td>\n",
              "      <td>0.0</td>\n",
              "      <td>160000.0</td>\n",
              "      <td>10000.0</td>\n",
              "      <td>170000.0</td>\n",
              "    </tr>\n",
              "  </tbody>\n",
              "</table>\n",
              "<p>16241 rows × 10 columns</p>\n",
              "</div>"
            ],
            "text/plain": [
              "                                                 Name  ... Total_Sales\n",
              "0                        Candace Kane's Candy Factory  ...     40000.0\n",
              "1                                      The Munchables  ...    180000.0\n",
              "2      Otome wa Oanesama Boku ni Koi Shiteru Portable  ...     20000.0\n",
              "3                    Deal or No Deal: Special Edition  ...     40000.0\n",
              "4           Ben 10 Ultimate Alien: Cosmic Destruction  ...    250000.0\n",
              "...                                               ...  ...         ...\n",
              "16593                         Ice Age 2: The Meltdown  ...    200000.0\n",
              "16594                     Rainbow Islands: Revolution  ...     10000.0\n",
              "16595                                        NBA 2K16  ...    790000.0\n",
              "16596                     Toukiden: The Age of Demons  ...    380000.0\n",
              "16597                        The King of Fighters '95  ...    170000.0\n",
              "\n",
              "[16241 rows x 10 columns]"
            ]
          },
          "metadata": {
            "tags": []
          },
          "execution_count": 49
        }
      ]
    },
    {
      "cell_type": "code",
      "metadata": {
        "colab": {
          "base_uri": "https://localhost:8080/",
          "height": 424
        },
        "id": "YQC0qx3xNL_b",
        "outputId": "08d07628-22a7-4c94-a82b-b6d65cf4924d"
      },
      "source": [
        "df1_Platform = df1[['Year','Publisher','Platform','Genre','Total_Sales']]\n",
        "df1_Platform = df1_Platform.groupby(['Year','Platform','Genre','Total_Sales']).sum().reset_index()\n",
        "df1_Platform"
      ],
      "execution_count": 50,
      "outputs": [
        {
          "output_type": "execute_result",
          "data": {
            "text/html": [
              "<div>\n",
              "<style scoped>\n",
              "    .dataframe tbody tr th:only-of-type {\n",
              "        vertical-align: middle;\n",
              "    }\n",
              "\n",
              "    .dataframe tbody tr th {\n",
              "        vertical-align: top;\n",
              "    }\n",
              "\n",
              "    .dataframe thead th {\n",
              "        text-align: right;\n",
              "    }\n",
              "</style>\n",
              "<table border=\"1\" class=\"dataframe\">\n",
              "  <thead>\n",
              "    <tr style=\"text-align: right;\">\n",
              "      <th></th>\n",
              "      <th>Year</th>\n",
              "      <th>Platform</th>\n",
              "      <th>Genre</th>\n",
              "      <th>Total_Sales</th>\n",
              "      <th>Publisher</th>\n",
              "    </tr>\n",
              "  </thead>\n",
              "  <tbody>\n",
              "    <tr>\n",
              "      <th>0</th>\n",
              "      <td>1980.0</td>\n",
              "      <td>A2600</td>\n",
              "      <td>Action</td>\n",
              "      <td>340000.0</td>\n",
              "      <td>Activision</td>\n",
              "    </tr>\n",
              "    <tr>\n",
              "      <th>1</th>\n",
              "      <td>1980.0</td>\n",
              "      <td>A2600</td>\n",
              "      <td>Fighting</td>\n",
              "      <td>770000.0</td>\n",
              "      <td>Activision</td>\n",
              "    </tr>\n",
              "    <tr>\n",
              "      <th>2</th>\n",
              "      <td>1980.0</td>\n",
              "      <td>A2600</td>\n",
              "      <td>Misc</td>\n",
              "      <td>230000.0</td>\n",
              "      <td>Atari</td>\n",
              "    </tr>\n",
              "    <tr>\n",
              "      <th>3</th>\n",
              "      <td>1980.0</td>\n",
              "      <td>A2600</td>\n",
              "      <td>Misc</td>\n",
              "      <td>270000.0</td>\n",
              "      <td>Activision</td>\n",
              "    </tr>\n",
              "    <tr>\n",
              "      <th>4</th>\n",
              "      <td>1980.0</td>\n",
              "      <td>A2600</td>\n",
              "      <td>Misc</td>\n",
              "      <td>1050000.0</td>\n",
              "      <td>Atari</td>\n",
              "    </tr>\n",
              "    <tr>\n",
              "      <th>...</th>\n",
              "      <td>...</td>\n",
              "      <td>...</td>\n",
              "      <td>...</td>\n",
              "      <td>...</td>\n",
              "      <td>...</td>\n",
              "    </tr>\n",
              "    <tr>\n",
              "      <th>13091</th>\n",
              "      <td>2016.0</td>\n",
              "      <td>XOne</td>\n",
              "      <td>Strategy</td>\n",
              "      <td>20000.0</td>\n",
              "      <td>Take-Two Interactive</td>\n",
              "    </tr>\n",
              "    <tr>\n",
              "      <th>13092</th>\n",
              "      <td>2017.0</td>\n",
              "      <td>PS4</td>\n",
              "      <td>Role-Playing</td>\n",
              "      <td>30000.0</td>\n",
              "      <td>Sega</td>\n",
              "    </tr>\n",
              "    <tr>\n",
              "      <th>13093</th>\n",
              "      <td>2017.0</td>\n",
              "      <td>PSV</td>\n",
              "      <td>Action</td>\n",
              "      <td>10000.0</td>\n",
              "      <td>Idea Factory</td>\n",
              "    </tr>\n",
              "    <tr>\n",
              "      <th>13094</th>\n",
              "      <td>2017.0</td>\n",
              "      <td>PSV</td>\n",
              "      <td>Role-Playing</td>\n",
              "      <td>10000.0</td>\n",
              "      <td>Sega</td>\n",
              "    </tr>\n",
              "    <tr>\n",
              "      <th>13095</th>\n",
              "      <td>2020.0</td>\n",
              "      <td>DS</td>\n",
              "      <td>Simulation</td>\n",
              "      <td>290000.0</td>\n",
              "      <td>Ubisoft</td>\n",
              "    </tr>\n",
              "  </tbody>\n",
              "</table>\n",
              "<p>13096 rows × 5 columns</p>\n",
              "</div>"
            ],
            "text/plain": [
              "         Year Platform         Genre  Total_Sales             Publisher\n",
              "0      1980.0    A2600        Action     340000.0            Activision\n",
              "1      1980.0    A2600      Fighting     770000.0            Activision\n",
              "2      1980.0    A2600          Misc     230000.0                 Atari\n",
              "3      1980.0    A2600          Misc     270000.0            Activision\n",
              "4      1980.0    A2600          Misc    1050000.0                 Atari\n",
              "...       ...      ...           ...          ...                   ...\n",
              "13091  2016.0     XOne      Strategy      20000.0  Take-Two Interactive\n",
              "13092  2017.0      PS4  Role-Playing      30000.0                  Sega\n",
              "13093  2017.0      PSV        Action      10000.0          Idea Factory\n",
              "13094  2017.0      PSV  Role-Playing      10000.0                  Sega\n",
              "13095  2020.0       DS    Simulation     290000.0               Ubisoft\n",
              "\n",
              "[13096 rows x 5 columns]"
            ]
          },
          "metadata": {
            "tags": []
          },
          "execution_count": 50
        }
      ]
    },
    {
      "cell_type": "code",
      "metadata": {
        "colab": {
          "base_uri": "https://localhost:8080/",
          "height": 424
        },
        "id": "0PZjN1rmDHf9",
        "outputId": "880a4ef4-598b-47a4-90f2-f5d711fed3bf"
      },
      "source": [
        "df1_Platform"
      ],
      "execution_count": 51,
      "outputs": [
        {
          "output_type": "execute_result",
          "data": {
            "text/html": [
              "<div>\n",
              "<style scoped>\n",
              "    .dataframe tbody tr th:only-of-type {\n",
              "        vertical-align: middle;\n",
              "    }\n",
              "\n",
              "    .dataframe tbody tr th {\n",
              "        vertical-align: top;\n",
              "    }\n",
              "\n",
              "    .dataframe thead th {\n",
              "        text-align: right;\n",
              "    }\n",
              "</style>\n",
              "<table border=\"1\" class=\"dataframe\">\n",
              "  <thead>\n",
              "    <tr style=\"text-align: right;\">\n",
              "      <th></th>\n",
              "      <th>Year</th>\n",
              "      <th>Platform</th>\n",
              "      <th>Genre</th>\n",
              "      <th>Total_Sales</th>\n",
              "      <th>Publisher</th>\n",
              "    </tr>\n",
              "  </thead>\n",
              "  <tbody>\n",
              "    <tr>\n",
              "      <th>0</th>\n",
              "      <td>1980.0</td>\n",
              "      <td>A2600</td>\n",
              "      <td>Action</td>\n",
              "      <td>340000.0</td>\n",
              "      <td>Activision</td>\n",
              "    </tr>\n",
              "    <tr>\n",
              "      <th>1</th>\n",
              "      <td>1980.0</td>\n",
              "      <td>A2600</td>\n",
              "      <td>Fighting</td>\n",
              "      <td>770000.0</td>\n",
              "      <td>Activision</td>\n",
              "    </tr>\n",
              "    <tr>\n",
              "      <th>2</th>\n",
              "      <td>1980.0</td>\n",
              "      <td>A2600</td>\n",
              "      <td>Misc</td>\n",
              "      <td>230000.0</td>\n",
              "      <td>Atari</td>\n",
              "    </tr>\n",
              "    <tr>\n",
              "      <th>3</th>\n",
              "      <td>1980.0</td>\n",
              "      <td>A2600</td>\n",
              "      <td>Misc</td>\n",
              "      <td>270000.0</td>\n",
              "      <td>Activision</td>\n",
              "    </tr>\n",
              "    <tr>\n",
              "      <th>4</th>\n",
              "      <td>1980.0</td>\n",
              "      <td>A2600</td>\n",
              "      <td>Misc</td>\n",
              "      <td>1050000.0</td>\n",
              "      <td>Atari</td>\n",
              "    </tr>\n",
              "    <tr>\n",
              "      <th>...</th>\n",
              "      <td>...</td>\n",
              "      <td>...</td>\n",
              "      <td>...</td>\n",
              "      <td>...</td>\n",
              "      <td>...</td>\n",
              "    </tr>\n",
              "    <tr>\n",
              "      <th>13091</th>\n",
              "      <td>2016.0</td>\n",
              "      <td>XOne</td>\n",
              "      <td>Strategy</td>\n",
              "      <td>20000.0</td>\n",
              "      <td>Take-Two Interactive</td>\n",
              "    </tr>\n",
              "    <tr>\n",
              "      <th>13092</th>\n",
              "      <td>2017.0</td>\n",
              "      <td>PS4</td>\n",
              "      <td>Role-Playing</td>\n",
              "      <td>30000.0</td>\n",
              "      <td>Sega</td>\n",
              "    </tr>\n",
              "    <tr>\n",
              "      <th>13093</th>\n",
              "      <td>2017.0</td>\n",
              "      <td>PSV</td>\n",
              "      <td>Action</td>\n",
              "      <td>10000.0</td>\n",
              "      <td>Idea Factory</td>\n",
              "    </tr>\n",
              "    <tr>\n",
              "      <th>13094</th>\n",
              "      <td>2017.0</td>\n",
              "      <td>PSV</td>\n",
              "      <td>Role-Playing</td>\n",
              "      <td>10000.0</td>\n",
              "      <td>Sega</td>\n",
              "    </tr>\n",
              "    <tr>\n",
              "      <th>13095</th>\n",
              "      <td>2020.0</td>\n",
              "      <td>DS</td>\n",
              "      <td>Simulation</td>\n",
              "      <td>290000.0</td>\n",
              "      <td>Ubisoft</td>\n",
              "    </tr>\n",
              "  </tbody>\n",
              "</table>\n",
              "<p>13096 rows × 5 columns</p>\n",
              "</div>"
            ],
            "text/plain": [
              "         Year Platform         Genre  Total_Sales             Publisher\n",
              "0      1980.0    A2600        Action     340000.0            Activision\n",
              "1      1980.0    A2600      Fighting     770000.0            Activision\n",
              "2      1980.0    A2600          Misc     230000.0                 Atari\n",
              "3      1980.0    A2600          Misc     270000.0            Activision\n",
              "4      1980.0    A2600          Misc    1050000.0                 Atari\n",
              "...       ...      ...           ...          ...                   ...\n",
              "13091  2016.0     XOne      Strategy      20000.0  Take-Two Interactive\n",
              "13092  2017.0      PS4  Role-Playing      30000.0                  Sega\n",
              "13093  2017.0      PSV        Action      10000.0          Idea Factory\n",
              "13094  2017.0      PSV  Role-Playing      10000.0                  Sega\n",
              "13095  2020.0       DS    Simulation     290000.0               Ubisoft\n",
              "\n",
              "[13096 rows x 5 columns]"
            ]
          },
          "metadata": {
            "tags": []
          },
          "execution_count": 51
        }
      ]
    },
    {
      "cell_type": "code",
      "metadata": {
        "colab": {
          "base_uri": "https://localhost:8080/",
          "height": 424
        },
        "id": "s7ZkupuJ958W",
        "outputId": "81baa3f8-66b6-4001-f015-68016c9e7ee0"
      },
      "source": [
        "df1_total=df1_Platform.sort_values(by='Total_Sales', ascending=False).head(100)\n",
        "df1_total"
      ],
      "execution_count": 52,
      "outputs": [
        {
          "output_type": "execute_result",
          "data": {
            "text/html": [
              "<div>\n",
              "<style scoped>\n",
              "    .dataframe tbody tr th:only-of-type {\n",
              "        vertical-align: middle;\n",
              "    }\n",
              "\n",
              "    .dataframe tbody tr th {\n",
              "        vertical-align: top;\n",
              "    }\n",
              "\n",
              "    .dataframe thead th {\n",
              "        text-align: right;\n",
              "    }\n",
              "</style>\n",
              "<table border=\"1\" class=\"dataframe\">\n",
              "  <thead>\n",
              "    <tr style=\"text-align: right;\">\n",
              "      <th></th>\n",
              "      <th>Year</th>\n",
              "      <th>Platform</th>\n",
              "      <th>Genre</th>\n",
              "      <th>Total_Sales</th>\n",
              "      <th>Publisher</th>\n",
              "    </tr>\n",
              "  </thead>\n",
              "  <tbody>\n",
              "    <tr>\n",
              "      <th>5904</th>\n",
              "      <td>2006.0</td>\n",
              "      <td>Wii</td>\n",
              "      <td>Sports</td>\n",
              "      <td>82740000.0</td>\n",
              "      <td>Nintendo</td>\n",
              "    </tr>\n",
              "    <tr>\n",
              "      <th>124</th>\n",
              "      <td>1985.0</td>\n",
              "      <td>NES</td>\n",
              "      <td>Platform</td>\n",
              "      <td>40240000.0</td>\n",
              "      <td>Nintendo</td>\n",
              "    </tr>\n",
              "    <tr>\n",
              "      <th>7777</th>\n",
              "      <td>2008.0</td>\n",
              "      <td>Wii</td>\n",
              "      <td>Racing</td>\n",
              "      <td>35830000.0</td>\n",
              "      <td>Nintendo</td>\n",
              "    </tr>\n",
              "    <tr>\n",
              "      <th>8911</th>\n",
              "      <td>2009.0</td>\n",
              "      <td>Wii</td>\n",
              "      <td>Sports</td>\n",
              "      <td>33000000.0</td>\n",
              "      <td>Nintendo</td>\n",
              "    </tr>\n",
              "    <tr>\n",
              "      <th>679</th>\n",
              "      <td>1996.0</td>\n",
              "      <td>GB</td>\n",
              "      <td>Role-Playing</td>\n",
              "      <td>31380000.0</td>\n",
              "      <td>Nintendo</td>\n",
              "    </tr>\n",
              "    <tr>\n",
              "      <th>...</th>\n",
              "      <td>...</td>\n",
              "      <td>...</td>\n",
              "      <td>...</td>\n",
              "      <td>...</td>\n",
              "      <td>...</td>\n",
              "    </tr>\n",
              "    <tr>\n",
              "      <th>5870</th>\n",
              "      <td>2006.0</td>\n",
              "      <td>Wii</td>\n",
              "      <td>Action</td>\n",
              "      <td>7320000.0</td>\n",
              "      <td>Nintendo</td>\n",
              "    </tr>\n",
              "    <tr>\n",
              "      <th>12821</th>\n",
              "      <td>2015.0</td>\n",
              "      <td>XOne</td>\n",
              "      <td>Shooter</td>\n",
              "      <td>7290000.0</td>\n",
              "      <td>Activision</td>\n",
              "    </tr>\n",
              "    <tr>\n",
              "      <th>8787</th>\n",
              "      <td>2009.0</td>\n",
              "      <td>Wii</td>\n",
              "      <td>Misc</td>\n",
              "      <td>7270000.0</td>\n",
              "      <td>Ubisoft</td>\n",
              "    </tr>\n",
              "    <tr>\n",
              "      <th>171</th>\n",
              "      <td>1988.0</td>\n",
              "      <td>NES</td>\n",
              "      <td>Platform</td>\n",
              "      <td>7270000.0</td>\n",
              "      <td>Nintendo</td>\n",
              "    </tr>\n",
              "    <tr>\n",
              "      <th>10453</th>\n",
              "      <td>2011.0</td>\n",
              "      <td>PS3</td>\n",
              "      <td>Shooter</td>\n",
              "      <td>7230000.0</td>\n",
              "      <td>Electronic Arts</td>\n",
              "    </tr>\n",
              "  </tbody>\n",
              "</table>\n",
              "<p>100 rows × 5 columns</p>\n",
              "</div>"
            ],
            "text/plain": [
              "         Year Platform         Genre  Total_Sales        Publisher\n",
              "5904   2006.0      Wii        Sports   82740000.0         Nintendo\n",
              "124    1985.0      NES      Platform   40240000.0         Nintendo\n",
              "7777   2008.0      Wii        Racing   35830000.0         Nintendo\n",
              "8911   2009.0      Wii        Sports   33000000.0         Nintendo\n",
              "679    1996.0       GB  Role-Playing   31380000.0         Nintendo\n",
              "...       ...      ...           ...          ...              ...\n",
              "5870   2006.0      Wii        Action    7320000.0         Nintendo\n",
              "12821  2015.0     XOne       Shooter    7290000.0       Activision\n",
              "8787   2009.0      Wii          Misc    7270000.0          Ubisoft\n",
              "171    1988.0      NES      Platform    7270000.0         Nintendo\n",
              "10453  2011.0      PS3       Shooter    7230000.0  Electronic Arts\n",
              "\n",
              "[100 rows x 5 columns]"
            ]
          },
          "metadata": {
            "tags": []
          },
          "execution_count": 52
        }
      ]
    },
    {
      "cell_type": "code",
      "metadata": {
        "colab": {
          "base_uri": "https://localhost:8080/",
          "height": 424
        },
        "id": "XaWIn_P__mau",
        "outputId": "17131273-d515-4fe1-b076-957800ec1430"
      },
      "source": [
        "df1_total.sort_values(by='Year', ascending=False).head(100)"
      ],
      "execution_count": 53,
      "outputs": [
        {
          "output_type": "execute_result",
          "data": {
            "text/html": [
              "<div>\n",
              "<style scoped>\n",
              "    .dataframe tbody tr th:only-of-type {\n",
              "        vertical-align: middle;\n",
              "    }\n",
              "\n",
              "    .dataframe tbody tr th {\n",
              "        vertical-align: top;\n",
              "    }\n",
              "\n",
              "    .dataframe thead th {\n",
              "        text-align: right;\n",
              "    }\n",
              "</style>\n",
              "<table border=\"1\" class=\"dataframe\">\n",
              "  <thead>\n",
              "    <tr style=\"text-align: right;\">\n",
              "      <th></th>\n",
              "      <th>Year</th>\n",
              "      <th>Platform</th>\n",
              "      <th>Genre</th>\n",
              "      <th>Total_Sales</th>\n",
              "      <th>Publisher</th>\n",
              "    </tr>\n",
              "  </thead>\n",
              "  <tbody>\n",
              "    <tr>\n",
              "      <th>12630</th>\n",
              "      <td>2015.0</td>\n",
              "      <td>PS4</td>\n",
              "      <td>Shooter</td>\n",
              "      <td>14240000.0</td>\n",
              "      <td>Activision</td>\n",
              "    </tr>\n",
              "    <tr>\n",
              "      <th>12821</th>\n",
              "      <td>2015.0</td>\n",
              "      <td>XOne</td>\n",
              "      <td>Shooter</td>\n",
              "      <td>7290000.0</td>\n",
              "      <td>Activision</td>\n",
              "    </tr>\n",
              "    <tr>\n",
              "      <th>12645</th>\n",
              "      <td>2015.0</td>\n",
              "      <td>PS4</td>\n",
              "      <td>Sports</td>\n",
              "      <td>8490000.0</td>\n",
              "      <td>Electronic Arts</td>\n",
              "    </tr>\n",
              "    <tr>\n",
              "      <th>12629</th>\n",
              "      <td>2015.0</td>\n",
              "      <td>PS4</td>\n",
              "      <td>Shooter</td>\n",
              "      <td>7670000.0</td>\n",
              "      <td>Electronic Arts</td>\n",
              "    </tr>\n",
              "    <tr>\n",
              "      <th>11928</th>\n",
              "      <td>2014.0</td>\n",
              "      <td>3DS</td>\n",
              "      <td>Role-Playing</td>\n",
              "      <td>11330000.0</td>\n",
              "      <td>Nintendo</td>\n",
              "    </tr>\n",
              "    <tr>\n",
              "      <th>...</th>\n",
              "      <td>...</td>\n",
              "      <td>...</td>\n",
              "      <td>...</td>\n",
              "      <td>...</td>\n",
              "      <td>...</td>\n",
              "    </tr>\n",
              "    <tr>\n",
              "      <th>172</th>\n",
              "      <td>1988.0</td>\n",
              "      <td>NES</td>\n",
              "      <td>Platform</td>\n",
              "      <td>17280000.0</td>\n",
              "      <td>Nintendo</td>\n",
              "    </tr>\n",
              "    <tr>\n",
              "      <th>171</th>\n",
              "      <td>1988.0</td>\n",
              "      <td>NES</td>\n",
              "      <td>Platform</td>\n",
              "      <td>7270000.0</td>\n",
              "      <td>Nintendo</td>\n",
              "    </tr>\n",
              "    <tr>\n",
              "      <th>124</th>\n",
              "      <td>1985.0</td>\n",
              "      <td>NES</td>\n",
              "      <td>Platform</td>\n",
              "      <td>40240000.0</td>\n",
              "      <td>Nintendo</td>\n",
              "    </tr>\n",
              "    <tr>\n",
              "      <th>114</th>\n",
              "      <td>1984.0</td>\n",
              "      <td>NES</td>\n",
              "      <td>Shooter</td>\n",
              "      <td>28310000.0</td>\n",
              "      <td>Nintendo</td>\n",
              "    </tr>\n",
              "    <tr>\n",
              "      <th>77</th>\n",
              "      <td>1982.0</td>\n",
              "      <td>A2600</td>\n",
              "      <td>Puzzle</td>\n",
              "      <td>7810000.0</td>\n",
              "      <td>Atari</td>\n",
              "    </tr>\n",
              "  </tbody>\n",
              "</table>\n",
              "<p>100 rows × 5 columns</p>\n",
              "</div>"
            ],
            "text/plain": [
              "         Year Platform         Genre  Total_Sales        Publisher\n",
              "12630  2015.0      PS4       Shooter   14240000.0       Activision\n",
              "12821  2015.0     XOne       Shooter    7290000.0       Activision\n",
              "12645  2015.0      PS4        Sports    8490000.0  Electronic Arts\n",
              "12629  2015.0      PS4       Shooter    7670000.0  Electronic Arts\n",
              "11928  2014.0      3DS  Role-Playing   11330000.0         Nintendo\n",
              "...       ...      ...           ...          ...              ...\n",
              "172    1988.0      NES      Platform   17280000.0         Nintendo\n",
              "171    1988.0      NES      Platform    7270000.0         Nintendo\n",
              "124    1985.0      NES      Platform   40240000.0         Nintendo\n",
              "114    1984.0      NES       Shooter   28310000.0         Nintendo\n",
              "77     1982.0    A2600        Puzzle    7810000.0            Atari\n",
              "\n",
              "[100 rows x 5 columns]"
            ]
          },
          "metadata": {
            "tags": []
          },
          "execution_count": 53
        }
      ]
    },
    {
      "cell_type": "code",
      "metadata": {
        "colab": {
          "base_uri": "https://localhost:8080/",
          "height": 472
        },
        "id": "Wuq-K83dYEYT",
        "outputId": "14c5d9de-ed8a-400d-d9ea-e79c23bce8e8"
      },
      "source": [
        "sns.lmplot(x=\"Year\", y=\"Total_Sales\", col=\"Platform\", hue=\"Publisher\", data=df1_total,\n",
        "           col_wrap=6, ci=None, palette=\"muted\", height=2,\n",
        "           scatter_kws={\"s\": 25, \"alpha\": 0.5})\n",
        "\n",
        "\n",
        "# 플랫폼에 따른 연도별 판매량수를 확인 해 보았습니다.\n",
        "# X360, PS3에서 양의 상관관계가 나타나며 해당 플랫폼의 판매량도 높은 것을 확인 할 수 있습니다."
      ],
      "execution_count": 54,
      "outputs": [
        {
          "output_type": "execute_result",
          "data": {
            "text/plain": [
              "<seaborn.axisgrid.FacetGrid at 0x7f46c47b0ed0>"
            ]
          },
          "metadata": {
            "tags": []
          },
          "execution_count": 54
        },
        {
          "output_type": "display_data",
          "data": {
            "image/png": "[encoded data removed]",
            "text/plain": [
              "<Figure size 1052x432 with 18 Axes>"
            ]
          },
          "metadata": {
            "tags": [],
            "needs_background": "light"
          }
        }
      ]
    },
    {
      "cell_type": "code",
      "metadata": {
        "id": "zfLbX4QFdD39"
      },
      "source": [
        "# 위 내용을 종합해 보았을 때 \n",
        "\n",
        "# 선공개 : 북미\n",
        "# Publisher : Activision, Electronic Arts, Nintendo\n",
        "# Platform : X360, PS3\n",
        "# Genre : Shooter, Sports, Action의 게임\n",
        "# 을 출시 해야합니다.\n",
        "\n"
      ],
      "execution_count": null,
      "outputs": []
    }
  ]
}